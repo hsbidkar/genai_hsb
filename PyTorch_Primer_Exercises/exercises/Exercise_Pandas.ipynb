{
 "cells": [
  {
   "cell_type": "markdown",
   "metadata": {
    "id": "smQ_Rht_Sm7e"
   },
   "source": [
    "## **TODO:** Set the value of `URL` to the URL from your learning materials"
   ]
  },
  {
   "cell_type": "code",
   "execution_count": null,
   "metadata": {
    "id": "HeWBWU5gSlzI"
   },
   "outputs": [],
   "source": [
    "URL = None\n",
    "import os\n",
    "assert URL and (type(URL) is str), \"Be sure to initialize URL using the value from your learning materials\"\n",
    "os.environ['URL'] = URL"
   ]
  },
  {
   "cell_type": "code",
   "execution_count": null,
   "metadata": {
    "id": "__mhhmRtSz4N"
   },
   "outputs": [],
   "source": [
    "%%bash\n",
    "wget -q $URL -O ./data.zip\n",
    "mkdir -p data\n",
    "find *.zip | xargs unzip -o -d data/"
   ]
  },
  {
   "cell_type": "markdown",
   "metadata": {
    "id": "F-jfOfrLSioV"
   },
   "source": [
    "# Exercise: Pandas"
   ]
  },
  {
   "cell_type": "markdown",
   "metadata": {
    "id": "WwQZ24emSioW"
   },
   "source": [
    "## To get started we'll need __`pandas`__"
   ]
  },
  {
   "cell_type": "code",
   "execution_count": null,
   "metadata": {
    "id": "zfpU_af3SioX"
   },
   "outputs": [],
   "source": [
    "import pandas as pd"
   ]
  },
  {
   "cell_type": "markdown",
   "metadata": {
    "id": "JFOWW8QnSiob"
   },
   "source": [
    "## Read the Consumer Complaints data file named __`data/Consumer_Complaints.csv`__ into a DataFrame"
   ]
  },
  {
   "cell_type": "code",
   "execution_count": null,
   "metadata": {
    "id": "PsDyKr5ESiob"
   },
   "outputs": [],
   "source": []
  },
  {
   "cell_type": "markdown",
   "metadata": {
    "id": "adYQWvWNSioe"
   },
   "source": [
    "## Determine the shape of the DataFrame"
   ]
  },
  {
   "cell_type": "code",
   "execution_count": null,
   "metadata": {
    "id": "v7lnLTgcSiof"
   },
   "outputs": [],
   "source": []
  },
  {
   "cell_type": "markdown",
   "metadata": {
    "id": "8p86vNsbSioi"
   },
   "source": [
    "## Investigate the first few rows of the DataFrame and find out what columns are present"
   ]
  },
  {
   "cell_type": "code",
   "execution_count": null,
   "metadata": {
    "id": "k1kvi5yxSioj"
   },
   "outputs": [],
   "source": []
  },
  {
   "cell_type": "markdown",
   "metadata": {
    "id": "sPZnz8PgSiom"
   },
   "source": [
    "## How many consumer complaints are there per state?"
   ]
  },
  {
   "cell_type": "code",
   "execution_count": null,
   "metadata": {
    "id": "_XOLmXK9Sion"
   },
   "outputs": [],
   "source": []
  },
  {
   "cell_type": "markdown",
   "metadata": {
    "id": "R-5IKTSaSiop"
   },
   "source": [
    "## Which ZIP code has the highest number of complaints?"
   ]
  },
  {
   "cell_type": "code",
   "execution_count": null,
   "metadata": {
    "id": "sahsBUzgSioq"
   },
   "outputs": [],
   "source": []
  },
  {
   "cell_type": "markdown",
   "metadata": {
    "id": "Fw8yKRtYSiot"
   },
   "source": [
    "## What are the top five products for complaints?"
   ]
  },
  {
   "cell_type": "code",
   "execution_count": null,
   "metadata": {
    "id": "RcgthO9cSiou"
   },
   "outputs": [],
   "source": []
  },
  {
   "cell_type": "markdown",
   "metadata": {
    "id": "80IksyWxSiox"
   },
   "source": [
    "## What are the top five states for consumer complaints?"
   ]
  },
  {
   "cell_type": "code",
   "execution_count": null,
   "metadata": {
    "id": "wVf5NPHYSioy"
   },
   "outputs": [],
   "source": []
  },
  {
   "cell_type": "markdown",
   "metadata": {
    "id": "a9yyCFaVSio1"
   },
   "source": [
    "## What is potentially misleading about these results? \n",
    "* We can solve this problem by normalizing the results against population data.\n",
    "* Our complaints database doesn't have this information though, so, let's read the information from the file __`data/states.csv`__ into a DataFrame"
   ]
  },
  {
   "cell_type": "code",
   "execution_count": null,
   "metadata": {
    "id": "ugKWvryISio1"
   },
   "outputs": [],
   "source": []
  },
  {
   "cell_type": "markdown",
   "metadata": {
    "id": "lpCX5DBGSio5"
   },
   "source": [
    "## Investigate the first few rows of the DataFrame"
   ]
  },
  {
   "cell_type": "code",
   "execution_count": null,
   "metadata": {
    "id": "DKiJ_uH-Sio5"
   },
   "outputs": [],
   "source": []
  },
  {
   "cell_type": "markdown",
   "metadata": {
    "id": "tnKJ4qGFSio8"
   },
   "source": [
    "## The __`Count`__ column is irrelevant, so...\n",
    "* Create a new DataFrame with only the __`Abbrev`__ and __`Population`__ columns"
   ]
  },
  {
   "cell_type": "code",
   "execution_count": null,
   "metadata": {
    "id": "OkAvNpjwSio8"
   },
   "outputs": [],
   "source": []
  },
  {
   "cell_type": "markdown",
   "metadata": {
    "id": "Y7qjeuQBSio_"
   },
   "source": [
    "## We're going to want to merge the DataFrames on the two-letter abbreviation\n",
    "* This is called __`State`__ in the first data set so make sure the second dataset has the right column names\n",
    "* Hint: check out the __`merge`__ function"
   ]
  },
  {
   "cell_type": "code",
   "execution_count": null,
   "metadata": {
    "id": "qJa16SypSio_"
   },
   "outputs": [],
   "source": []
  },
  {
   "cell_type": "markdown",
   "metadata": {
    "id": "mxfo7ccGSipB"
   },
   "source": [
    "## Generate a new DataFrame that contains the number of  complaints per state and keeps track of those counts"
   ]
  },
  {
   "cell_type": "code",
   "execution_count": null,
   "metadata": {
    "id": "haYzK4gKSipC"
   },
   "outputs": [],
   "source": []
  },
  {
   "cell_type": "markdown",
   "metadata": {
    "id": "zbYR-j4qSipF"
   },
   "source": [
    "## Merge the __`complaints_by_state`__ DataFrame and the states DataFrame on the __`State`__ column\n",
    "* Since there are U.S. territories in one of the datasets and not the other, we have some NaN results–get rid of those"
   ]
  },
  {
   "cell_type": "code",
   "execution_count": null,
   "metadata": {
    "id": "GOpVvPnhSipF"
   },
   "outputs": [],
   "source": []
  },
  {
   "cell_type": "markdown",
   "metadata": {
    "id": "xIEk3FtQSipI"
   },
   "source": [
    "## Inspect the first few rows to ensure it worked properly"
   ]
  },
  {
   "cell_type": "code",
   "execution_count": null,
   "metadata": {
    "id": "cW4wYN6cSipJ"
   },
   "outputs": [],
   "source": []
  },
  {
   "cell_type": "markdown",
   "metadata": {
    "id": "daFJG4YLSipM"
   },
   "source": [
    "## Normalize the Population\n",
    "1. Divide the counts column by the __`Population`__ \n",
    "* Store the result in a new columnn called 'population_normalized'"
   ]
  },
  {
   "cell_type": "code",
   "execution_count": null,
   "metadata": {
    "id": "owiNJZP8SipN"
   },
   "outputs": [],
   "source": []
  },
  {
   "cell_type": "markdown",
   "metadata": {
    "id": "wgrLZm45SipP"
   },
   "source": [
    "## Check out the first few rows of the data to make sure it looks like you expect"
   ]
  },
  {
   "cell_type": "code",
   "execution_count": null,
   "metadata": {
    "id": "QauDI31iSipP"
   },
   "outputs": [],
   "source": []
  },
  {
   "cell_type": "markdown",
   "metadata": {
    "id": "V42_4_W8SipS"
   },
   "source": [
    "## What are the top 10 states for complaints based upon raw counts?"
   ]
  },
  {
   "cell_type": "code",
   "execution_count": null,
   "metadata": {
    "id": "LyiIaVuySipS"
   },
   "outputs": [],
   "source": []
  },
  {
   "cell_type": "markdown",
   "metadata": {
    "id": "j9RGG3WMSipU"
   },
   "source": [
    "## What are the top 10 states for complaints normalized by population?"
   ]
  },
  {
   "cell_type": "code",
   "execution_count": null,
   "metadata": {
    "id": "cBh5UPT_SipV"
   },
   "outputs": [],
   "source": []
  },
  {
   "cell_type": "markdown",
   "metadata": {
    "id": "zJsUtH0WA04Z"
   },
   "source": [
    "Copyright 2021 CounterFactual.AI LLC. Licensed under the Apache License, Version 2.0 (the \"License\"); you may not use this file except in compliance with the License. You may obtain a copy of the License at http://www.apache.org/licenses/LICENSE-2.0 Unless required by applicable law or agreed to in writing, software distributed under the License is distributed on an \"AS IS\" BASIS, WITHOUT WARRANTIES OR CONDITIONS OF ANY KIND, either express or implied. See the License for the specific language governing permissions and limitations under the License."
   ]
  }
 ],
 "metadata": {
  "colab": {
   "collapsed_sections": [],
   "name": "Exercise_Pandas.ipynb",
   "provenance": []
  },
  "kernelspec": {
   "display_name": "Python 3 (ipykernel)",
   "language": "python",
   "name": "python3"
  },
  "language_info": {
   "codemirror_mode": {
    "name": "ipython",
    "version": 3
   },
   "file_extension": ".py",
   "mimetype": "text/x-python",
   "name": "python",
   "nbconvert_exporter": "python",
   "pygments_lexer": "ipython3",
   "version": "3.9.1"
  }
 },
 "nbformat": 4,
 "nbformat_minor": 1
}
