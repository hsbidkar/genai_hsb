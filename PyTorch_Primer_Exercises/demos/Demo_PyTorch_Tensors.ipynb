{
 "cells": [
  {
   "cell_type": "markdown",
   "metadata": {
    "id": "6ezwfR9XH48p"
   },
   "source": [
    "# Python Doesn't Have Good Numeric Support\n",
    "* Python integers are actually an object with header and typing information\n",
    "* access to Python integers requires a level of indirection\n",
    "* In C, integers are directly accessible in memory without indirection\n",
    "<img src=\"https://github.com/osipov/edu/raw/master/pyt0/images/python-01.png\" width=700 height=400>"
   ]
  },
  {
   "cell_type": "markdown",
   "metadata": {
    "id": "mbEvFTCAH48q"
   },
   "source": [
    "## The Problem is Even Worse for Python Lists \n",
    "* Python lists are immensely flexible\n",
    "  * no fixed size\n",
    "  * OK to have heterogeneous data\n",
    "* ...but as a result they are not likely to be contiguous in memory\n",
    "* and even if they are, there is still a lot of indirection required\n",
    "* so they aren't good for fast number crunching\n",
    "<img src=\"https://github.com/osipov/edu/raw/master/pyt0/images/python-02.png\" width=700 height=700>"
   ]
  },
  {
   "cell_type": "code",
   "execution_count": 1,
   "metadata": {
    "colab": {
     "base_uri": "https://localhost:8080/"
    },
    "executionInfo": {
     "elapsed": 6608,
     "status": "ok",
     "timestamp": 1642901872115,
     "user": {
      "displayName": "Axel Sirota",
      "photoUrl": "https://lh3.googleusercontent.com/a-/AOh14GhF_GvpAITBpH5Xc52kHUBvqdiucPdx4L85mdPGFIs=s64",
      "userId": "02089179879199828401"
     },
     "user_tz": 180
    },
    "id": "fkS_WcY2coaj",
    "outputId": "eb7858aa-28c3-4dbb-fdcb-5c2a02d6b1cf"
   },
   "outputs": [
    {
     "name": "stdout",
     "output_type": "stream",
     "text": [
      "10 loops, best of 5: 98.8 ms per loop\n"
     ]
    }
   ],
   "source": [
    "pylist = list(range(1_000_000))\n",
    "%timeit [i + 1 for i in pylist]"
   ]
  },
  {
   "cell_type": "markdown",
   "metadata": {
    "id": "FSYxb3LHH48r"
   },
   "source": [
    "## One solution is to use PyTorch tensors\n",
    "* written in C++\n",
    "* allows for vectorized operations"
   ]
  },
  {
   "cell_type": "code",
   "execution_count": 2,
   "metadata": {
    "colab": {
     "base_uri": "https://localhost:8080/",
     "height": 35
    },
    "executionInfo": {
     "elapsed": 6418,
     "status": "ok",
     "timestamp": 1642901886384,
     "user": {
      "displayName": "Axel Sirota",
      "photoUrl": "https://lh3.googleusercontent.com/a-/AOh14GhF_GvpAITBpH5Xc52kHUBvqdiucPdx4L85mdPGFIs=s64",
      "userId": "02089179879199828401"
     },
     "user_tz": 180
    },
    "id": "1de2VLpWc9pb",
    "outputId": "846906b3-3f2a-47d2-a01e-6b3b42ab2400"
   },
   "outputs": [
    {
     "data": {
      "application/vnd.google.colaboratory.intrinsic+json": {
       "type": "string"
      },
      "text/plain": [
       "'1.10.0+cu111'"
      ]
     },
     "execution_count": 2,
     "metadata": {},
     "output_type": "execute_result"
    }
   ],
   "source": [
    "import torch as pt\n",
    "pt.__version__"
   ]
  },
  {
   "cell_type": "markdown",
   "metadata": {
    "id": "caPLdVBO9ujf"
   },
   "source": [
    "## PyTorch Scalars"
   ]
  },
  {
   "cell_type": "code",
   "execution_count": 3,
   "metadata": {
    "colab": {
     "base_uri": "https://localhost:8080/"
    },
    "executionInfo": {
     "elapsed": 374,
     "status": "ok",
     "timestamp": 1642902011605,
     "user": {
      "displayName": "Axel Sirota",
      "photoUrl": "https://lh3.googleusercontent.com/a-/AOh14GhF_GvpAITBpH5Xc52kHUBvqdiucPdx4L85mdPGFIs=s64",
      "userId": "02089179879199828401"
     },
     "user_tz": 180
    },
    "id": "LY0vW0RpPZZ0",
    "outputId": "af0f7790-3035-42c7-91f4-2afbf00ee0d7"
   },
   "outputs": [
    {
     "data": {
      "text/plain": [
       "tensor(42)"
      ]
     },
     "execution_count": 3,
     "metadata": {},
     "output_type": "execute_result"
    }
   ],
   "source": [
    "pt.tensor(42)"
   ]
  },
  {
   "cell_type": "code",
   "execution_count": 4,
   "metadata": {
    "colab": {
     "base_uri": "https://localhost:8080/"
    },
    "executionInfo": {
     "elapsed": 291,
     "status": "ok",
     "timestamp": 1642902015003,
     "user": {
      "displayName": "Axel Sirota",
      "photoUrl": "https://lh3.googleusercontent.com/a-/AOh14GhF_GvpAITBpH5Xc52kHUBvqdiucPdx4L85mdPGFIs=s64",
      "userId": "02089179879199828401"
     },
     "user_tz": 180
    },
    "id": "25baYf_vbqWM",
    "outputId": "5aaa6fdf-ed17-4524-fdf3-66d427d3f618"
   },
   "outputs": [
    {
     "data": {
      "text/plain": [
       "torch.int64"
      ]
     },
     "execution_count": 4,
     "metadata": {},
     "output_type": "execute_result"
    }
   ],
   "source": [
    "pt.tensor(42).dtype"
   ]
  },
  {
   "cell_type": "code",
   "execution_count": 5,
   "metadata": {
    "colab": {
     "base_uri": "https://localhost:8080/"
    },
    "executionInfo": {
     "elapsed": 4,
     "status": "ok",
     "timestamp": 1642902016122,
     "user": {
      "displayName": "Axel Sirota",
      "photoUrl": "https://lh3.googleusercontent.com/a-/AOh14GhF_GvpAITBpH5Xc52kHUBvqdiucPdx4L85mdPGFIs=s64",
      "userId": "02089179879199828401"
     },
     "user_tz": 180
    },
    "id": "Ytahj47q9ujw",
    "outputId": "888d8a18-6915-4787-cf18-22141bbb9a91"
   },
   "outputs": [
    {
     "data": {
      "text/plain": [
       "torch.Size([])"
      ]
     },
     "execution_count": 5,
     "metadata": {},
     "output_type": "execute_result"
    }
   ],
   "source": [
    "pt.tensor(42).shape"
   ]
  },
  {
   "cell_type": "code",
   "execution_count": 6,
   "metadata": {
    "colab": {
     "base_uri": "https://localhost:8080/"
    },
    "executionInfo": {
     "elapsed": 243,
     "status": "ok",
     "timestamp": 1642902021744,
     "user": {
      "displayName": "Axel Sirota",
      "photoUrl": "https://lh3.googleusercontent.com/a-/AOh14GhF_GvpAITBpH5Xc52kHUBvqdiucPdx4L85mdPGFIs=s64",
      "userId": "02089179879199828401"
     },
     "user_tz": 180
    },
    "id": "hdL_I5919ujz",
    "outputId": "c09d8dd2-0d86-41c7-99b4-6e97f60b3b99"
   },
   "outputs": [
    {
     "data": {
      "text/plain": [
       "True"
      ]
     },
     "execution_count": 6,
     "metadata": {},
     "output_type": "execute_result"
    }
   ],
   "source": [
    "len(pt.tensor(42).shape) == 0"
   ]
  },
  {
   "cell_type": "code",
   "execution_count": 7,
   "metadata": {
    "colab": {
     "base_uri": "https://localhost:8080/"
    },
    "executionInfo": {
     "elapsed": 255,
     "status": "ok",
     "timestamp": 1642902029754,
     "user": {
      "displayName": "Axel Sirota",
      "photoUrl": "https://lh3.googleusercontent.com/a-/AOh14GhF_GvpAITBpH5Xc52kHUBvqdiucPdx4L85mdPGFIs=s64",
      "userId": "02089179879199828401"
     },
     "user_tz": 180
    },
    "id": "7lOOodHGPRz_",
    "outputId": "fa7eec46-c93d-4416-f82b-07b199673300"
   },
   "outputs": [
    {
     "data": {
      "text/plain": [
       "torch.float32"
      ]
     },
     "execution_count": 7,
     "metadata": {},
     "output_type": "execute_result"
    }
   ],
   "source": [
    "pt.tensor(3.14).dtype"
   ]
  },
  {
   "cell_type": "code",
   "execution_count": 8,
   "metadata": {
    "colab": {
     "base_uri": "https://localhost:8080/"
    },
    "executionInfo": {
     "elapsed": 341,
     "status": "ok",
     "timestamp": 1642902042522,
     "user": {
      "displayName": "Axel Sirota",
      "photoUrl": "https://lh3.googleusercontent.com/a-/AOh14GhF_GvpAITBpH5Xc52kHUBvqdiucPdx4L85mdPGFIs=s64",
      "userId": "02089179879199828401"
     },
     "user_tz": 180
    },
    "id": "ThH9pmxcPdpA",
    "outputId": "e8c21d74-a025-4444-a20d-ae0902cae499"
   },
   "outputs": [
    {
     "data": {
      "text/plain": [
       "3.140000104904175"
      ]
     },
     "execution_count": 8,
     "metadata": {},
     "output_type": "execute_result"
    }
   ],
   "source": [
    "pt.tensor(3.14).item()"
   ]
  },
  {
   "cell_type": "code",
   "execution_count": 9,
   "metadata": {
    "colab": {
     "base_uri": "https://localhost:8080/"
    },
    "executionInfo": {
     "elapsed": 289,
     "status": "ok",
     "timestamp": 1642902045694,
     "user": {
      "displayName": "Axel Sirota",
      "photoUrl": "https://lh3.googleusercontent.com/a-/AOh14GhF_GvpAITBpH5Xc52kHUBvqdiucPdx4L85mdPGFIs=s64",
      "userId": "02089179879199828401"
     },
     "user_tz": 180
    },
    "id": "7Ht1V2Zl9ujr",
    "outputId": "222b63f0-6522-414e-ad85-d0591bb7dda9"
   },
   "outputs": [
    {
     "data": {
      "text/plain": [
       "False"
      ]
     },
     "execution_count": 9,
     "metadata": {},
     "output_type": "execute_result"
    }
   ],
   "source": [
    "pt.tensor(3.14).item() == 3.14"
   ]
  },
  {
   "cell_type": "markdown",
   "metadata": {
    "id": "j_-cjPNM9uj1"
   },
   "source": [
    "## IEEE Standard for Floating-Point Arithmetic (IEEE 754) \n",
    "* a refresher on floating point precision issues"
   ]
  },
  {
   "cell_type": "code",
   "execution_count": 10,
   "metadata": {
    "colab": {
     "base_uri": "https://localhost:8080/"
    },
    "executionInfo": {
     "elapsed": 294,
     "status": "ok",
     "timestamp": 1642902053732,
     "user": {
      "displayName": "Axel Sirota",
      "photoUrl": "https://lh3.googleusercontent.com/a-/AOh14GhF_GvpAITBpH5Xc52kHUBvqdiucPdx4L85mdPGFIs=s64",
      "userId": "02089179879199828401"
     },
     "user_tz": 180
    },
    "id": "Y2htN9eA9uj2",
    "outputId": "670218c6-5f58-47f5-8447-98cbb2ee35a3"
   },
   "outputs": [
    {
     "data": {
      "text/plain": [
       "0.3"
      ]
     },
     "execution_count": 10,
     "metadata": {},
     "output_type": "execute_result"
    }
   ],
   "source": [
    "x = 0.3\n",
    "x"
   ]
  },
  {
   "cell_type": "code",
   "execution_count": 11,
   "metadata": {
    "colab": {
     "base_uri": "https://localhost:8080/"
    },
    "executionInfo": {
     "elapsed": 3,
     "status": "ok",
     "timestamp": 1642902056168,
     "user": {
      "displayName": "Axel Sirota",
      "photoUrl": "https://lh3.googleusercontent.com/a-/AOh14GhF_GvpAITBpH5Xc52kHUBvqdiucPdx4L85mdPGFIs=s64",
      "userId": "02089179879199828401"
     },
     "user_tz": 180
    },
    "id": "pT8Rrdzl9uj5",
    "outputId": "37a2a3ff-0b81-4e53-eb9f-31a2939e27fd"
   },
   "outputs": [
    {
     "data": {
      "text/plain": [
       "False"
      ]
     },
     "execution_count": 11,
     "metadata": {},
     "output_type": "execute_result"
    }
   ],
   "source": [
    "3 * 0.1 == x"
   ]
  },
  {
   "cell_type": "code",
   "execution_count": 12,
   "metadata": {
    "colab": {
     "base_uri": "https://localhost:8080/"
    },
    "executionInfo": {
     "elapsed": 294,
     "status": "ok",
     "timestamp": 1642902060384,
     "user": {
      "displayName": "Axel Sirota",
      "photoUrl": "https://lh3.googleusercontent.com/a-/AOh14GhF_GvpAITBpH5Xc52kHUBvqdiucPdx4L85mdPGFIs=s64",
      "userId": "02089179879199828401"
     },
     "user_tz": 180
    },
    "id": "STHfElvB9uj7",
    "outputId": "ed390c2e-711f-42ee-b452-d0a413d6d402"
   },
   "outputs": [
    {
     "data": {
      "text/plain": [
       "0.30000000000000004"
      ]
     },
     "execution_count": 12,
     "metadata": {},
     "output_type": "execute_result"
    }
   ],
   "source": [
    "3 * 0.1"
   ]
  },
  {
   "cell_type": "code",
   "execution_count": 13,
   "metadata": {
    "executionInfo": {
     "elapsed": 273,
     "status": "ok",
     "timestamp": 1642902063917,
     "user": {
      "displayName": "Axel Sirota",
      "photoUrl": "https://lh3.googleusercontent.com/a-/AOh14GhF_GvpAITBpH5Xc52kHUBvqdiucPdx4L85mdPGFIs=s64",
      "userId": "02089179879199828401"
     },
     "user_tz": 180
    },
    "id": "YQ94ixYm9uj-"
   },
   "outputs": [],
   "source": [
    "x = pt.tensor(3.14)"
   ]
  },
  {
   "cell_type": "code",
   "execution_count": 14,
   "metadata": {
    "colab": {
     "base_uri": "https://localhost:8080/"
    },
    "executionInfo": {
     "elapsed": 314,
     "status": "ok",
     "timestamp": 1642902067847,
     "user": {
      "displayName": "Axel Sirota",
      "photoUrl": "https://lh3.googleusercontent.com/a-/AOh14GhF_GvpAITBpH5Xc52kHUBvqdiucPdx4L85mdPGFIs=s64",
      "userId": "02089179879199828401"
     },
     "user_tz": 180
    },
    "id": "nQ_uYK5m9ukA",
    "outputId": "9aa5ef30-4a01-4208-9ac7-82d9f3654a6a"
   },
   "outputs": [
    {
     "data": {
      "text/plain": [
       "3"
      ]
     },
     "execution_count": 14,
     "metadata": {},
     "output_type": "execute_result"
    }
   ],
   "source": [
    "x.to(pt.uint8).item()"
   ]
  },
  {
   "cell_type": "code",
   "execution_count": 15,
   "metadata": {
    "colab": {
     "base_uri": "https://localhost:8080/"
    },
    "executionInfo": {
     "elapsed": 265,
     "status": "ok",
     "timestamp": 1642902074064,
     "user": {
      "displayName": "Axel Sirota",
      "photoUrl": "https://lh3.googleusercontent.com/a-/AOh14GhF_GvpAITBpH5Xc52kHUBvqdiucPdx4L85mdPGFIs=s64",
      "userId": "02089179879199828401"
     },
     "user_tz": 180
    },
    "id": "rzklhoHV9ukC",
    "outputId": "3384f348-d95a-4636-f044-388d11db8418"
   },
   "outputs": [
    {
     "name": "stderr",
     "output_type": "stream",
     "text": [
      "/usr/local/lib/python3.7/dist-packages/ipykernel_launcher.py:1: UserWarning: To copy construct from a tensor, it is recommended to use sourceTensor.clone().detach() or sourceTensor.clone().detach().requires_grad_(True), rather than torch.tensor(sourceTensor).\n",
      "  \"\"\"Entry point for launching an IPython kernel.\n"
     ]
    },
    {
     "data": {
      "text/plain": [
       "tensor(3, dtype=torch.uint8)"
      ]
     },
     "execution_count": 15,
     "metadata": {},
     "output_type": "execute_result"
    }
   ],
   "source": [
    "pt.tensor(x.to(pt.uint8))"
   ]
  },
  {
   "cell_type": "code",
   "execution_count": 16,
   "metadata": {
    "colab": {
     "base_uri": "https://localhost:8080/"
    },
    "executionInfo": {
     "elapsed": 283,
     "status": "ok",
     "timestamp": 1642902080569,
     "user": {
      "displayName": "Axel Sirota",
      "photoUrl": "https://lh3.googleusercontent.com/a-/AOh14GhF_GvpAITBpH5Xc52kHUBvqdiucPdx4L85mdPGFIs=s64",
      "userId": "02089179879199828401"
     },
     "user_tz": 180
    },
    "id": "GOxg1jGe9ukG",
    "outputId": "6f972ee7-14d6-41b9-ab09-ebb85461392d"
   },
   "outputs": [
    {
     "data": {
      "text/plain": [
       "tensor(3.)"
      ]
     },
     "execution_count": 16,
     "metadata": {},
     "output_type": "execute_result"
    }
   ],
   "source": [
    "pt.tensor(x.to(pt.uint8).item(), dtype = pt.float32)"
   ]
  },
  {
   "cell_type": "markdown",
   "metadata": {
    "id": "GiSWaSveH488"
   },
   "source": [
    "## __pt.trunc()__\n",
    "\n",
    "* nearest integer __`i`__ which is closer to zero than __`x`__ is"
   ]
  },
  {
   "cell_type": "code",
   "execution_count": 17,
   "metadata": {
    "colab": {
     "base_uri": "https://localhost:8080/"
    },
    "executionInfo": {
     "elapsed": 261,
     "status": "ok",
     "timestamp": 1642902088289,
     "user": {
      "displayName": "Axel Sirota",
      "photoUrl": "https://lh3.googleusercontent.com/a-/AOh14GhF_GvpAITBpH5Xc52kHUBvqdiucPdx4L85mdPGFIs=s64",
      "userId": "02089179879199828401"
     },
     "user_tz": 180
    },
    "id": "jhY3NNOAH489",
    "outputId": "6ac0b166-6c3c-42b2-bf93-14d5f312883a"
   },
   "outputs": [
    {
     "data": {
      "text/plain": [
       "tensor(3.)"
      ]
     },
     "execution_count": 17,
     "metadata": {},
     "output_type": "execute_result"
    }
   ],
   "source": [
    "pt.trunc(x)"
   ]
  },
  {
   "cell_type": "code",
   "execution_count": 18,
   "metadata": {
    "colab": {
     "base_uri": "https://localhost:8080/"
    },
    "executionInfo": {
     "elapsed": 288,
     "status": "ok",
     "timestamp": 1642902091761,
     "user": {
      "displayName": "Axel Sirota",
      "photoUrl": "https://lh3.googleusercontent.com/a-/AOh14GhF_GvpAITBpH5Xc52kHUBvqdiucPdx4L85mdPGFIs=s64",
      "userId": "02089179879199828401"
     },
     "user_tz": 180
    },
    "id": "OQMiYX8n9ukM",
    "outputId": "532bd23b-d85a-4250-ddf8-a5923884ea43"
   },
   "outputs": [
    {
     "data": {
      "text/plain": [
       "torch.float32"
      ]
     },
     "execution_count": 18,
     "metadata": {},
     "output_type": "execute_result"
    }
   ],
   "source": [
    "pt.trunc(pt.tensor(2.01)).dtype"
   ]
  },
  {
   "cell_type": "markdown",
   "metadata": {
    "id": "k1Ep0DqVH48_"
   },
   "source": [
    "## __pt.floor()__\n",
    "\n",
    "* the largest integer __`i`__, such that __`i <= x`__"
   ]
  },
  {
   "cell_type": "code",
   "execution_count": 19,
   "metadata": {
    "colab": {
     "base_uri": "https://localhost:8080/"
    },
    "executionInfo": {
     "elapsed": 404,
     "status": "ok",
     "timestamp": 1642902102429,
     "user": {
      "displayName": "Axel Sirota",
      "photoUrl": "https://lh3.googleusercontent.com/a-/AOh14GhF_GvpAITBpH5Xc52kHUBvqdiucPdx4L85mdPGFIs=s64",
      "userId": "02089179879199828401"
     },
     "user_tz": 180
    },
    "id": "zm7-466kH49A",
    "outputId": "7b247b8e-744c-41c8-a0ac-8507b10ffc14"
   },
   "outputs": [
    {
     "data": {
      "text/plain": [
       "tensor(3.)"
      ]
     },
     "execution_count": 19,
     "metadata": {},
     "output_type": "execute_result"
    }
   ],
   "source": [
    "pt.floor(x)"
   ]
  },
  {
   "cell_type": "code",
   "execution_count": 20,
   "metadata": {
    "colab": {
     "base_uri": "https://localhost:8080/"
    },
    "executionInfo": {
     "elapsed": 329,
     "status": "ok",
     "timestamp": 1642902104247,
     "user": {
      "displayName": "Axel Sirota",
      "photoUrl": "https://lh3.googleusercontent.com/a-/AOh14GhF_GvpAITBpH5Xc52kHUBvqdiucPdx4L85mdPGFIs=s64",
      "userId": "02089179879199828401"
     },
     "user_tz": 180
    },
    "id": "ttPIoTNmH49E",
    "outputId": "00bd2abe-c2e6-4a4b-e0b2-d8803820edf2"
   },
   "outputs": [
    {
     "data": {
      "text/plain": [
       "tensor(2.)"
      ]
     },
     "execution_count": 20,
     "metadata": {},
     "output_type": "execute_result"
    }
   ],
   "source": [
    "pt.floor(pt.tensor(2.01))"
   ]
  },
  {
   "cell_type": "code",
   "execution_count": 21,
   "metadata": {
    "colab": {
     "base_uri": "https://localhost:8080/"
    },
    "executionInfo": {
     "elapsed": 256,
     "status": "ok",
     "timestamp": 1642902106049,
     "user": {
      "displayName": "Axel Sirota",
      "photoUrl": "https://lh3.googleusercontent.com/a-/AOh14GhF_GvpAITBpH5Xc52kHUBvqdiucPdx4L85mdPGFIs=s64",
      "userId": "02089179879199828401"
     },
     "user_tz": 180
    },
    "id": "0xnpXNzrH49G",
    "outputId": "4a95a5ed-ead0-4b3c-85c0-26477b837e1f"
   },
   "outputs": [
    {
     "data": {
      "text/plain": [
       "tensor(2.)"
      ]
     },
     "execution_count": 21,
     "metadata": {},
     "output_type": "execute_result"
    }
   ],
   "source": [
    "pt.floor(pt.tensor(2.))"
   ]
  },
  {
   "cell_type": "code",
   "execution_count": 22,
   "metadata": {
    "colab": {
     "base_uri": "https://localhost:8080/"
    },
    "executionInfo": {
     "elapsed": 4,
     "status": "ok",
     "timestamp": 1642902107348,
     "user": {
      "displayName": "Axel Sirota",
      "photoUrl": "https://lh3.googleusercontent.com/a-/AOh14GhF_GvpAITBpH5Xc52kHUBvqdiucPdx4L85mdPGFIs=s64",
      "userId": "02089179879199828401"
     },
     "user_tz": 180
    },
    "id": "2y_1mlNM9ukW",
    "outputId": "8fc76d4e-c76f-4582-9271-ea4e53377d7d"
   },
   "outputs": [
    {
     "data": {
      "text/plain": [
       "tensor(-4.)"
      ]
     },
     "execution_count": 22,
     "metadata": {},
     "output_type": "execute_result"
    }
   ],
   "source": [
    "pt.floor(pt.tensor(-3.14))"
   ]
  },
  {
   "cell_type": "markdown",
   "metadata": {
    "id": "J08a-VkKH49J"
   },
   "source": [
    "## __pt.ceil()__\n",
    "\n",
    "* the smallest integer __`i`__, such that __`i >= x`__"
   ]
  },
  {
   "cell_type": "code",
   "execution_count": 23,
   "metadata": {
    "colab": {
     "base_uri": "https://localhost:8080/"
    },
    "executionInfo": {
     "elapsed": 391,
     "status": "ok",
     "timestamp": 1642902110663,
     "user": {
      "displayName": "Axel Sirota",
      "photoUrl": "https://lh3.googleusercontent.com/a-/AOh14GhF_GvpAITBpH5Xc52kHUBvqdiucPdx4L85mdPGFIs=s64",
      "userId": "02089179879199828401"
     },
     "user_tz": 180
    },
    "id": "iIKHAB8MH49K",
    "outputId": "0d3ceda2-0ff1-4438-b4f1-1aa624528e17"
   },
   "outputs": [
    {
     "data": {
      "text/plain": [
       "tensor(4.)"
      ]
     },
     "execution_count": 23,
     "metadata": {},
     "output_type": "execute_result"
    }
   ],
   "source": [
    "pt.ceil(x)"
   ]
  },
  {
   "cell_type": "code",
   "execution_count": 24,
   "metadata": {
    "colab": {
     "base_uri": "https://localhost:8080/"
    },
    "executionInfo": {
     "elapsed": 2,
     "status": "ok",
     "timestamp": 1642902111035,
     "user": {
      "displayName": "Axel Sirota",
      "photoUrl": "https://lh3.googleusercontent.com/a-/AOh14GhF_GvpAITBpH5Xc52kHUBvqdiucPdx4L85mdPGFIs=s64",
      "userId": "02089179879199828401"
     },
     "user_tz": 180
    },
    "id": "ljyv7AgVH49N",
    "outputId": "a5f0a44a-a54d-4341-bea6-2ceb05ae646c"
   },
   "outputs": [
    {
     "data": {
      "text/plain": [
       "tensor(3.)"
      ]
     },
     "execution_count": 24,
     "metadata": {},
     "output_type": "execute_result"
    }
   ],
   "source": [
    "pt.ceil(pt.tensor(2.01))"
   ]
  },
  {
   "cell_type": "code",
   "execution_count": 25,
   "metadata": {
    "colab": {
     "base_uri": "https://localhost:8080/"
    },
    "executionInfo": {
     "elapsed": 3,
     "status": "ok",
     "timestamp": 1642902111306,
     "user": {
      "displayName": "Axel Sirota",
      "photoUrl": "https://lh3.googleusercontent.com/a-/AOh14GhF_GvpAITBpH5Xc52kHUBvqdiucPdx4L85mdPGFIs=s64",
      "userId": "02089179879199828401"
     },
     "user_tz": 180
    },
    "id": "wVDpB1NBH49S",
    "outputId": "730a03f0-b7a6-4028-ad56-6086c8a55710"
   },
   "outputs": [
    {
     "data": {
      "text/plain": [
       "tensor(2.)"
      ]
     },
     "execution_count": 25,
     "metadata": {},
     "output_type": "execute_result"
    }
   ],
   "source": [
    "pt.ceil(pt.tensor(2.))"
   ]
  },
  {
   "cell_type": "markdown",
   "metadata": {
    "id": "My_UkuVM9ukk"
   },
   "source": [
    "* can __pt.ceil()__ be used in place of __pt.floor()__ ?"
   ]
  },
  {
   "cell_type": "code",
   "execution_count": 26,
   "metadata": {
    "colab": {
     "base_uri": "https://localhost:8080/"
    },
    "executionInfo": {
     "elapsed": 362,
     "status": "ok",
     "timestamp": 1642902115842,
     "user": {
      "displayName": "Axel Sirota",
      "photoUrl": "https://lh3.googleusercontent.com/a-/AOh14GhF_GvpAITBpH5Xc52kHUBvqdiucPdx4L85mdPGFIs=s64",
      "userId": "02089179879199828401"
     },
     "user_tz": 180
    },
    "id": "KOhbtHaqH49U",
    "outputId": "795d275b-ed26-480b-a60b-ad1a282d9cc7"
   },
   "outputs": [
    {
     "data": {
      "text/plain": [
       "tensor(3.)"
      ]
     },
     "execution_count": 26,
     "metadata": {},
     "output_type": "execute_result"
    }
   ],
   "source": [
    "pt.ceil(x) - 1"
   ]
  },
  {
   "cell_type": "code",
   "execution_count": 27,
   "metadata": {
    "colab": {
     "base_uri": "https://localhost:8080/"
    },
    "executionInfo": {
     "elapsed": 312,
     "status": "ok",
     "timestamp": 1642902118353,
     "user": {
      "displayName": "Axel Sirota",
      "photoUrl": "https://lh3.googleusercontent.com/a-/AOh14GhF_GvpAITBpH5Xc52kHUBvqdiucPdx4L85mdPGFIs=s64",
      "userId": "02089179879199828401"
     },
     "user_tz": 180
    },
    "id": "a4Fx2HAmH49W",
    "outputId": "835b7e80-170e-4354-dad3-484e086ace12"
   },
   "outputs": [
    {
     "data": {
      "text/plain": [
       "tensor(2.)"
      ]
     },
     "execution_count": 27,
     "metadata": {},
     "output_type": "execute_result"
    }
   ],
   "source": [
    "pt.ceil(pt.tensor(2.01)) - 1"
   ]
  },
  {
   "cell_type": "code",
   "execution_count": 28,
   "metadata": {
    "colab": {
     "base_uri": "https://localhost:8080/"
    },
    "executionInfo": {
     "elapsed": 2,
     "status": "ok",
     "timestamp": 1642902119667,
     "user": {
      "displayName": "Axel Sirota",
      "photoUrl": "https://lh3.googleusercontent.com/a-/AOh14GhF_GvpAITBpH5Xc52kHUBvqdiucPdx4L85mdPGFIs=s64",
      "userId": "02089179879199828401"
     },
     "user_tz": 180
    },
    "id": "u-IVaToe9ukp",
    "outputId": "1801abf7-58ea-4760-ecfb-135ebcefe685"
   },
   "outputs": [
    {
     "data": {
      "text/plain": [
       "tensor(1.)"
      ]
     },
     "execution_count": 28,
     "metadata": {},
     "output_type": "execute_result"
    }
   ],
   "source": [
    "pt.ceil(pt.tensor(2.)) - 1"
   ]
  },
  {
   "cell_type": "markdown",
   "metadata": {
    "id": "snVbqgra_2rM"
   },
   "source": [
    "## PyTorch arrays\n",
    "* data is stored contiguously in memory"
   ]
  },
  {
   "cell_type": "code",
   "execution_count": 29,
   "metadata": {
    "colab": {
     "base_uri": "https://localhost:8080/"
    },
    "executionInfo": {
     "elapsed": 279,
     "status": "ok",
     "timestamp": 1642902152025,
     "user": {
      "displayName": "Axel Sirota",
      "photoUrl": "https://lh3.googleusercontent.com/a-/AOh14GhF_GvpAITBpH5Xc52kHUBvqdiucPdx4L85mdPGFIs=s64",
      "userId": "02089179879199828401"
     },
     "user_tz": 180
    },
    "id": "iYPeREHmH49Z",
    "outputId": "d993b1fa-6b49-4fa8-acd8-38a1772c5df2"
   },
   "outputs": [
    {
     "data": {
      "text/plain": [
       "(tensor([1, 4, 2, 5, 3]), torch.int64)"
      ]
     },
     "execution_count": 29,
     "metadata": {},
     "output_type": "execute_result"
    }
   ],
   "source": [
    "# pytorch will infer the data type\n",
    "a = pt.tensor([1, 4, 2, 5, 3])\n",
    "a, a.dtype"
   ]
  },
  {
   "cell_type": "code",
   "execution_count": 30,
   "metadata": {
    "colab": {
     "base_uri": "https://localhost:8080/"
    },
    "executionInfo": {
     "elapsed": 3,
     "status": "ok",
     "timestamp": 1642902156876,
     "user": {
      "displayName": "Axel Sirota",
      "photoUrl": "https://lh3.googleusercontent.com/a-/AOh14GhF_GvpAITBpH5Xc52kHUBvqdiucPdx4L85mdPGFIs=s64",
      "userId": "02089179879199828401"
     },
     "user_tz": 180
    },
    "id": "bLLlBh0jH49c",
    "outputId": "b7908b67-3af4-4b8e-a1f9-3e4893d4e85d"
   },
   "outputs": [
    {
     "data": {
      "text/plain": [
       "(tensor([3.1400, 4.0000, 2.0000, 3.0000]), torch.float32)"
      ]
     },
     "execution_count": 30,
     "metadata": {},
     "output_type": "execute_result"
    }
   ],
   "source": [
    "a = pt.tensor([3.14, 4, 2, 3])\n",
    "a, a.dtype"
   ]
  },
  {
   "cell_type": "code",
   "execution_count": 31,
   "metadata": {
    "colab": {
     "base_uri": "https://localhost:8080/"
    },
    "executionInfo": {
     "elapsed": 247,
     "status": "ok",
     "timestamp": 1642902162841,
     "user": {
      "displayName": "Axel Sirota",
      "photoUrl": "https://lh3.googleusercontent.com/a-/AOh14GhF_GvpAITBpH5Xc52kHUBvqdiucPdx4L85mdPGFIs=s64",
      "userId": "02089179879199828401"
     },
     "user_tz": 180
    },
    "id": "Fqro-1wrH49f",
    "outputId": "c8234324-b638-48f9-9717-e965cf032c33"
   },
   "outputs": [
    {
     "data": {
      "text/plain": [
       "tensor([1., 2., 3., 4.])"
      ]
     },
     "execution_count": 31,
     "metadata": {},
     "output_type": "execute_result"
    }
   ],
   "source": [
    "# ...or you can be explicit\n",
    "a = pt.tensor([1, 2, 3, 4], dtype=pt.float32)\n",
    "a"
   ]
  },
  {
   "cell_type": "code",
   "execution_count": 32,
   "metadata": {
    "colab": {
     "base_uri": "https://localhost:8080/"
    },
    "executionInfo": {
     "elapsed": 332,
     "status": "ok",
     "timestamp": 1642902166018,
     "user": {
      "displayName": "Axel Sirota",
      "photoUrl": "https://lh3.googleusercontent.com/a-/AOh14GhF_GvpAITBpH5Xc52kHUBvqdiucPdx4L85mdPGFIs=s64",
      "userId": "02089179879199828401"
     },
     "user_tz": 180
    },
    "id": "HjPq14z3H49i",
    "outputId": "6353c026-ae1c-42bb-bdf4-63a76e5b6c11"
   },
   "outputs": [
    {
     "data": {
      "text/plain": [
       "tensor([[2, 3, 4],\n",
       "        [4, 5, 6],\n",
       "        [6, 7, 8]])"
      ]
     },
     "execution_count": 32,
     "metadata": {},
     "output_type": "execute_result"
    }
   ],
   "source": [
    "pt.tensor([range(i, i + 3) for i in [2, 4, 6]])"
   ]
  },
  {
   "cell_type": "code",
   "execution_count": 33,
   "metadata": {
    "colab": {
     "base_uri": "https://localhost:8080/"
    },
    "executionInfo": {
     "elapsed": 387,
     "status": "ok",
     "timestamp": 1642902184821,
     "user": {
      "displayName": "Axel Sirota",
      "photoUrl": "https://lh3.googleusercontent.com/a-/AOh14GhF_GvpAITBpH5Xc52kHUBvqdiucPdx4L85mdPGFIs=s64",
      "userId": "02089179879199828401"
     },
     "user_tz": 180
    },
    "id": "QCRdAkhZH49k",
    "outputId": "5454496f-d787-4747-c3cc-ee0c1d1ec896"
   },
   "outputs": [
    {
     "data": {
      "text/plain": [
       "tensor([0, 0, 0, 0, 0, 0, 0, 0, 0, 0])"
      ]
     },
     "execution_count": 33,
     "metadata": {},
     "output_type": "execute_result"
    }
   ],
   "source": [
    "pt.zeros(10, dtype=int)"
   ]
  },
  {
   "cell_type": "code",
   "execution_count": 34,
   "metadata": {
    "colab": {
     "base_uri": "https://localhost:8080/"
    },
    "executionInfo": {
     "elapsed": 280,
     "status": "ok",
     "timestamp": 1642902186356,
     "user": {
      "displayName": "Axel Sirota",
      "photoUrl": "https://lh3.googleusercontent.com/a-/AOh14GhF_GvpAITBpH5Xc52kHUBvqdiucPdx4L85mdPGFIs=s64",
      "userId": "02089179879199828401"
     },
     "user_tz": 180
    },
    "id": "JEYfcy4AH49m",
    "outputId": "b94cb1a7-0b6b-405c-bb57-c29cea4738e6"
   },
   "outputs": [
    {
     "data": {
      "text/plain": [
       "tensor([[1., 1., 1., 1., 1.],\n",
       "        [1., 1., 1., 1., 1.],\n",
       "        [1., 1., 1., 1., 1.]], dtype=torch.float64)"
      ]
     },
     "execution_count": 34,
     "metadata": {},
     "output_type": "execute_result"
    }
   ],
   "source": [
    "pt.ones((3, 5), dtype=float)"
   ]
  },
  {
   "cell_type": "code",
   "execution_count": 35,
   "metadata": {
    "colab": {
     "base_uri": "https://localhost:8080/"
    },
    "executionInfo": {
     "elapsed": 3,
     "status": "ok",
     "timestamp": 1642902186767,
     "user": {
      "displayName": "Axel Sirota",
      "photoUrl": "https://lh3.googleusercontent.com/a-/AOh14GhF_GvpAITBpH5Xc52kHUBvqdiucPdx4L85mdPGFIs=s64",
      "userId": "02089179879199828401"
     },
     "user_tz": 180
    },
    "id": "_XWOYKMhH493",
    "outputId": "b8addabb-6ef1-4241-b693-81a04dedfbc9"
   },
   "outputs": [
    {
     "data": {
      "text/plain": [
       "tensor([[1., 0., 0., 0., 0.],\n",
       "        [0., 1., 0., 0., 0.],\n",
       "        [0., 0., 1., 0., 0.],\n",
       "        [0., 0., 0., 1., 0.],\n",
       "        [0., 0., 0., 0., 1.]])"
      ]
     },
     "execution_count": 35,
     "metadata": {},
     "output_type": "execute_result"
    }
   ],
   "source": [
    "pt.eye(5)"
   ]
  },
  {
   "cell_type": "code",
   "execution_count": 36,
   "metadata": {
    "colab": {
     "base_uri": "https://localhost:8080/"
    },
    "executionInfo": {
     "elapsed": 318,
     "status": "ok",
     "timestamp": 1642902192891,
     "user": {
      "displayName": "Axel Sirota",
      "photoUrl": "https://lh3.googleusercontent.com/a-/AOh14GhF_GvpAITBpH5Xc52kHUBvqdiucPdx4L85mdPGFIs=s64",
      "userId": "02089179879199828401"
     },
     "user_tz": 180
    },
    "id": "PujnAxmFH49o",
    "outputId": "f3b251d3-c59a-4e9b-b5d0-932a94f5a38b"
   },
   "outputs": [
    {
     "data": {
      "text/plain": [
       "tensor([[42, 42, 42, 42, 42],\n",
       "        [42, 42, 42, 42, 42],\n",
       "        [42, 42, 42, 42, 42]])"
      ]
     },
     "execution_count": 36,
     "metadata": {},
     "output_type": "execute_result"
    }
   ],
   "source": [
    "pt.full((3, 5), 42, dtype=int)"
   ]
  },
  {
   "cell_type": "code",
   "execution_count": 37,
   "metadata": {
    "colab": {
     "base_uri": "https://localhost:8080/"
    },
    "executionInfo": {
     "elapsed": 344,
     "status": "ok",
     "timestamp": 1642902196045,
     "user": {
      "displayName": "Axel Sirota",
      "photoUrl": "https://lh3.googleusercontent.com/a-/AOh14GhF_GvpAITBpH5Xc52kHUBvqdiucPdx4L85mdPGFIs=s64",
      "userId": "02089179879199828401"
     },
     "user_tz": 180
    },
    "id": "gL4aEPnBH49q",
    "outputId": "37c1fde8-f41c-463f-fbf0-42213a4bbf43"
   },
   "outputs": [
    {
     "data": {
      "text/plain": [
       "tensor([ 0,  2,  4,  6,  8, 10, 12, 14, 16, 18])"
      ]
     },
     "execution_count": 37,
     "metadata": {},
     "output_type": "execute_result"
    }
   ],
   "source": [
    "pt.arange(0, 20, 2)"
   ]
  },
  {
   "cell_type": "code",
   "execution_count": 38,
   "metadata": {
    "colab": {
     "base_uri": "https://localhost:8080/"
    },
    "executionInfo": {
     "elapsed": 459,
     "status": "ok",
     "timestamp": 1642902196948,
     "user": {
      "displayName": "Axel Sirota",
      "photoUrl": "https://lh3.googleusercontent.com/a-/AOh14GhF_GvpAITBpH5Xc52kHUBvqdiucPdx4L85mdPGFIs=s64",
      "userId": "02089179879199828401"
     },
     "user_tz": 180
    },
    "id": "ousQ2uqKH49u",
    "outputId": "44252d84-2ddc-4031-d93d-75ec95fe6d94"
   },
   "outputs": [
    {
     "data": {
      "text/plain": [
       "tensor([0.0000, 0.2500, 0.5000, 0.7500, 1.0000])"
      ]
     },
     "execution_count": 38,
     "metadata": {},
     "output_type": "execute_result"
    }
   ],
   "source": [
    "pt.linspace(0, 1, 5)"
   ]
  },
  {
   "cell_type": "markdown",
   "metadata": {
    "id": "mieISOa19ulG"
   },
   "source": [
    "## Pseudo-Random Numbers"
   ]
  },
  {
   "cell_type": "code",
   "execution_count": 39,
   "metadata": {
    "executionInfo": {
     "elapsed": 334,
     "status": "ok",
     "timestamp": 1642902200520,
     "user": {
      "displayName": "Axel Sirota",
      "photoUrl": "https://lh3.googleusercontent.com/a-/AOh14GhF_GvpAITBpH5Xc52kHUBvqdiucPdx4L85mdPGFIs=s64",
      "userId": "02089179879199828401"
     },
     "user_tz": 180
    },
    "id": "FLFPJxZF9ulG"
   },
   "outputs": [],
   "source": [
    "pt.manual_seed(0);"
   ]
  },
  {
   "cell_type": "code",
   "execution_count": 40,
   "metadata": {
    "colab": {
     "base_uri": "https://localhost:8080/"
    },
    "executionInfo": {
     "elapsed": 3,
     "status": "ok",
     "timestamp": 1642902200794,
     "user": {
      "displayName": "Axel Sirota",
      "photoUrl": "https://lh3.googleusercontent.com/a-/AOh14GhF_GvpAITBpH5Xc52kHUBvqdiucPdx4L85mdPGFIs=s64",
      "userId": "02089179879199828401"
     },
     "user_tz": 180
    },
    "id": "WLiVKYOTH49w",
    "outputId": "e1229f9e-a115-45e3-8ba1-d492c1c7ff84"
   },
   "outputs": [
    {
     "data": {
      "text/plain": [
       "tensor([[ 1.5410, -0.2934, -2.1788],\n",
       "        [ 0.5684, -1.0845, -1.3986],\n",
       "        [ 0.4033,  0.8380, -0.7193]])"
      ]
     },
     "execution_count": 40,
     "metadata": {},
     "output_type": "execute_result"
    }
   ],
   "source": [
    "pt.randn(3, 3)"
   ]
  },
  {
   "cell_type": "code",
   "execution_count": 41,
   "metadata": {
    "colab": {
     "base_uri": "https://localhost:8080/"
    },
    "executionInfo": {
     "elapsed": 5,
     "status": "ok",
     "timestamp": 1642902203883,
     "user": {
      "displayName": "Axel Sirota",
      "photoUrl": "https://lh3.googleusercontent.com/a-/AOh14GhF_GvpAITBpH5Xc52kHUBvqdiucPdx4L85mdPGFIs=s64",
      "userId": "02089179879199828401"
     },
     "user_tz": 180
    },
    "id": "r4_XJFMaH49y",
    "outputId": "22138361-c1d4-4f40-a5a8-8a21dc3bc349"
   },
   "outputs": [
    {
     "data": {
      "text/plain": [
       "tensor([[-0.4033, -0.5966,  0.1820],\n",
       "        [-0.8567,  1.1006, -1.0712],\n",
       "        [ 0.1227, -0.5663,  0.3731]])"
      ]
     },
     "execution_count": 41,
     "metadata": {},
     "output_type": "execute_result"
    }
   ],
   "source": [
    "pt.normal(0, 1, size = (3, 3))\n"
   ]
  },
  {
   "cell_type": "code",
   "execution_count": 42,
   "metadata": {
    "colab": {
     "base_uri": "https://localhost:8080/"
    },
    "executionInfo": {
     "elapsed": 320,
     "status": "ok",
     "timestamp": 1642902208094,
     "user": {
      "displayName": "Axel Sirota",
      "photoUrl": "https://lh3.googleusercontent.com/a-/AOh14GhF_GvpAITBpH5Xc52kHUBvqdiucPdx4L85mdPGFIs=s64",
      "userId": "02089179879199828401"
     },
     "user_tz": 180
    },
    "id": "WnG1muSdH491",
    "outputId": "9a32d3a8-4e98-4f9c-dedc-fb1539832d0b"
   },
   "outputs": [
    {
     "data": {
      "text/plain": [
       "tensor([[2, 9, 1],\n",
       "        [8, 8, 3],\n",
       "        [6, 9, 1]])"
      ]
     },
     "execution_count": 42,
     "metadata": {},
     "output_type": "execute_result"
    }
   ],
   "source": [
    "pt.randint(0, 10, (3, 3))"
   ]
  },
  {
   "cell_type": "markdown",
   "metadata": {
    "id": "Hn7sHGfRH496"
   },
   "source": [
    "## Converting array types"
   ]
  },
  {
   "cell_type": "code",
   "execution_count": null,
   "metadata": {
    "id": "VkeIohcuH496"
   },
   "outputs": [],
   "source": [
    "x = pt.linspace(0, 10, 50)\n",
    "x"
   ]
  },
  {
   "cell_type": "code",
   "execution_count": null,
   "metadata": {
    "id": "a6oEEQCcH498"
   },
   "outputs": [],
   "source": [
    "x.to(int)"
   ]
  },
  {
   "cell_type": "markdown",
   "metadata": {
    "id": "5OHltxoYH49-"
   },
   "source": [
    "## Multi-dimensional Arrays"
   ]
  },
  {
   "cell_type": "code",
   "execution_count": null,
   "metadata": {
    "id": "gst_0xQ9H49_"
   },
   "outputs": [],
   "source": [
    "x2 = pt.randint(10, size=[3, 4])\n",
    "x2"
   ]
  },
  {
   "cell_type": "markdown",
   "metadata": {
    "id": "gFB5i5tkH4-B"
   },
   "source": [
    "## True \"matrix-style\" indexing"
   ]
  },
  {
   "cell_type": "code",
   "execution_count": null,
   "metadata": {
    "id": "mgPXcIRSH4-B"
   },
   "outputs": [],
   "source": [
    "x2[0, 0]"
   ]
  },
  {
   "cell_type": "code",
   "execution_count": null,
   "metadata": {
    "id": "JVrN3jBdH4-D"
   },
   "outputs": [],
   "source": [
    "x2[2, 0]"
   ]
  },
  {
   "cell_type": "code",
   "execution_count": null,
   "metadata": {
    "id": "VDtNmlwiH4-F"
   },
   "outputs": [],
   "source": [
    "x2[2, -1]"
   ]
  },
  {
   "cell_type": "code",
   "execution_count": null,
   "metadata": {
    "id": "sUurrqzUH4-H"
   },
   "outputs": [],
   "source": [
    "x2[0, 0] = 12\n",
    "x2"
   ]
  },
  {
   "cell_type": "code",
   "execution_count": 43,
   "metadata": {
    "colab": {
     "base_uri": "https://localhost:8080/"
    },
    "executionInfo": {
     "elapsed": 276,
     "status": "ok",
     "timestamp": 1642902221691,
     "user": {
      "displayName": "Axel Sirota",
      "photoUrl": "https://lh3.googleusercontent.com/a-/AOh14GhF_GvpAITBpH5Xc52kHUBvqdiucPdx4L85mdPGFIs=s64",
      "userId": "02089179879199828401"
     },
     "user_tz": 180
    },
    "id": "z7w0J4ZDH4-J",
    "outputId": "1312b2c2-1afa-4af3-bd32-ae76a8a10238"
   },
   "outputs": [
    {
     "data": {
      "text/plain": [
       "tensor([[0, 1, 2],\n",
       "        [3, 4, 5],\n",
       "        [6, 7, 8]])"
      ]
     },
     "execution_count": 43,
     "metadata": {},
     "output_type": "execute_result"
    }
   ],
   "source": [
    "pt.arange(0, 9).reshape(3, 3)"
   ]
  },
  {
   "cell_type": "markdown",
   "metadata": {
    "id": "YavLAYX9H4-M"
   },
   "source": [
    "## Array Slicing"
   ]
  },
  {
   "cell_type": "code",
   "execution_count": 44,
   "metadata": {
    "colab": {
     "base_uri": "https://localhost:8080/"
    },
    "executionInfo": {
     "elapsed": 391,
     "status": "ok",
     "timestamp": 1642902225797,
     "user": {
      "displayName": "Axel Sirota",
      "photoUrl": "https://lh3.googleusercontent.com/a-/AOh14GhF_GvpAITBpH5Xc52kHUBvqdiucPdx4L85mdPGFIs=s64",
      "userId": "02089179879199828401"
     },
     "user_tz": 180
    },
    "id": "iapW7b5jH4-N",
    "outputId": "c0e83ae0-c977-4fae-f0c0-7ee008c2ef00"
   },
   "outputs": [
    {
     "data": {
      "text/plain": [
       "tensor([0, 1, 2, 3, 4])"
      ]
     },
     "execution_count": 44,
     "metadata": {},
     "output_type": "execute_result"
    }
   ],
   "source": [
    "x = pt.arange(10)\n",
    "x[:5]"
   ]
  },
  {
   "cell_type": "code",
   "execution_count": 45,
   "metadata": {
    "colab": {
     "base_uri": "https://localhost:8080/"
    },
    "executionInfo": {
     "elapsed": 284,
     "status": "ok",
     "timestamp": 1642902228641,
     "user": {
      "displayName": "Axel Sirota",
      "photoUrl": "https://lh3.googleusercontent.com/a-/AOh14GhF_GvpAITBpH5Xc52kHUBvqdiucPdx4L85mdPGFIs=s64",
      "userId": "02089179879199828401"
     },
     "user_tz": 180
    },
    "id": "eNjX0OueH4-R",
    "outputId": "7916a860-5cbf-4142-cc2c-6bb0f02fa894"
   },
   "outputs": [
    {
     "data": {
      "text/plain": [
       "tensor([5, 6, 7, 8, 9])"
      ]
     },
     "execution_count": 45,
     "metadata": {},
     "output_type": "execute_result"
    }
   ],
   "source": [
    "x[5:]"
   ]
  },
  {
   "cell_type": "code",
   "execution_count": 46,
   "metadata": {
    "colab": {
     "base_uri": "https://localhost:8080/"
    },
    "executionInfo": {
     "elapsed": 3,
     "status": "ok",
     "timestamp": 1642902229546,
     "user": {
      "displayName": "Axel Sirota",
      "photoUrl": "https://lh3.googleusercontent.com/a-/AOh14GhF_GvpAITBpH5Xc52kHUBvqdiucPdx4L85mdPGFIs=s64",
      "userId": "02089179879199828401"
     },
     "user_tz": 180
    },
    "id": "KLRZuFo7H4-T",
    "outputId": "dfa618e9-90ac-4abc-811e-d224d1cd3ccf"
   },
   "outputs": [
    {
     "data": {
      "text/plain": [
       "tensor([4, 5, 6])"
      ]
     },
     "execution_count": 46,
     "metadata": {},
     "output_type": "execute_result"
    }
   ],
   "source": [
    "x[4:7]"
   ]
  },
  {
   "cell_type": "code",
   "execution_count": 47,
   "metadata": {
    "colab": {
     "base_uri": "https://localhost:8080/"
    },
    "executionInfo": {
     "elapsed": 3,
     "status": "ok",
     "timestamp": 1642902229876,
     "user": {
      "displayName": "Axel Sirota",
      "photoUrl": "https://lh3.googleusercontent.com/a-/AOh14GhF_GvpAITBpH5Xc52kHUBvqdiucPdx4L85mdPGFIs=s64",
      "userId": "02089179879199828401"
     },
     "user_tz": 180
    },
    "id": "QALndZ3tH4-X",
    "outputId": "f5579ba5-13f1-4add-997c-87ca68125e21"
   },
   "outputs": [
    {
     "data": {
      "text/plain": [
       "tensor([0, 2, 4, 6, 8])"
      ]
     },
     "execution_count": 47,
     "metadata": {},
     "output_type": "execute_result"
    }
   ],
   "source": [
    "x[::2]"
   ]
  },
  {
   "cell_type": "code",
   "execution_count": 48,
   "metadata": {
    "colab": {
     "base_uri": "https://localhost:8080/"
    },
    "executionInfo": {
     "elapsed": 3,
     "status": "ok",
     "timestamp": 1642902230135,
     "user": {
      "displayName": "Axel Sirota",
      "photoUrl": "https://lh3.googleusercontent.com/a-/AOh14GhF_GvpAITBpH5Xc52kHUBvqdiucPdx4L85mdPGFIs=s64",
      "userId": "02089179879199828401"
     },
     "user_tz": 180
    },
    "id": "B1b5L1xhH4-Z",
    "outputId": "631b7532-10c7-4f89-fcba-ac97a2d563c6"
   },
   "outputs": [
    {
     "data": {
      "text/plain": [
       "tensor([1, 3, 5, 7, 9])"
      ]
     },
     "execution_count": 48,
     "metadata": {},
     "output_type": "execute_result"
    }
   ],
   "source": [
    "x[1::2]"
   ]
  },
  {
   "cell_type": "code",
   "execution_count": null,
   "metadata": {
    "id": "8uAX1x4eH4-b"
   },
   "outputs": [],
   "source": [
    "x[::-1] # :)"
   ]
  },
  {
   "cell_type": "code",
   "execution_count": null,
   "metadata": {
    "id": "j_F5K41e9ul1"
   },
   "outputs": [],
   "source": [
    "reversed(x)"
   ]
  },
  {
   "cell_type": "code",
   "execution_count": null,
   "metadata": {
    "id": "WjDTL2xyH4-e"
   },
   "outputs": [],
   "source": [
    "reversed(x)[5::2]"
   ]
  },
  {
   "cell_type": "markdown",
   "metadata": {
    "id": "J0azkBf7H4-h"
   },
   "source": [
    "## Filtering 1-dimensional data"
   ]
  },
  {
   "cell_type": "code",
   "execution_count": null,
   "metadata": {
    "id": "NALu7pJqH4-h"
   },
   "outputs": [],
   "source": [
    "x = pt.tensor([ 1, 0, 5, 2, 1, 0, 8, 0, 0 ])"
   ]
  },
  {
   "cell_type": "code",
   "execution_count": null,
   "metadata": {
    "id": "LAW8kJJLH4-j"
   },
   "outputs": [],
   "source": [
    "x.nonzero()"
   ]
  },
  {
   "cell_type": "code",
   "execution_count": null,
   "metadata": {
    "id": "-OZtPXI1H4-l"
   },
   "outputs": [],
   "source": [
    "x[x.nonzero()]"
   ]
  },
  {
   "cell_type": "code",
   "execution_count": 49,
   "metadata": {
    "colab": {
     "base_uri": "https://localhost:8080/"
    },
    "executionInfo": {
     "elapsed": 286,
     "status": "ok",
     "timestamp": 1642902241921,
     "user": {
      "displayName": "Axel Sirota",
      "photoUrl": "https://lh3.googleusercontent.com/a-/AOh14GhF_GvpAITBpH5Xc52kHUBvqdiucPdx4L85mdPGFIs=s64",
      "userId": "02089179879199828401"
     },
     "user_tz": 180
    },
    "id": "BeHSIE_MH4-o",
    "outputId": "8513fb26-cc10-430c-db5d-bcbe704b0cf9"
   },
   "outputs": [
    {
     "data": {
      "text/plain": [
       "tensor([0, 1, 2])"
      ]
     },
     "execution_count": 49,
     "metadata": {},
     "output_type": "execute_result"
    }
   ],
   "source": [
    "x[x < 3]"
   ]
  },
  {
   "cell_type": "markdown",
   "metadata": {
    "id": "U7iuruo4H4-q"
   },
   "source": [
    "## Filtering 2-dimensional data"
   ]
  },
  {
   "cell_type": "code",
   "execution_count": 51,
   "metadata": {
    "colab": {
     "base_uri": "https://localhost:8080/"
    },
    "executionInfo": {
     "elapsed": 418,
     "status": "ok",
     "timestamp": 1642902266810,
     "user": {
      "displayName": "Axel Sirota",
      "photoUrl": "https://lh3.googleusercontent.com/a-/AOh14GhF_GvpAITBpH5Xc52kHUBvqdiucPdx4L85mdPGFIs=s64",
      "userId": "02089179879199828401"
     },
     "user_tz": 180
    },
    "id": "nQmeV8mVH4-q",
    "outputId": "f249cc17-988f-4d67-8cdc-4861025a16ef"
   },
   "outputs": [
    {
     "data": {
      "text/plain": [
       "tensor([[1, 0, 0],\n",
       "        [0, 5, 0],\n",
       "        [7, 8, 0]])"
      ]
     },
     "execution_count": 51,
     "metadata": {},
     "output_type": "execute_result"
    }
   ],
   "source": [
    "x = pt.tensor([[1, 0, 0], [0, 5, 0], [7, 8, 0]])\n",
    "x"
   ]
  },
  {
   "cell_type": "code",
   "execution_count": 52,
   "metadata": {
    "colab": {
     "base_uri": "https://localhost:8080/"
    },
    "executionInfo": {
     "elapsed": 7,
     "status": "ok",
     "timestamp": 1642902266812,
     "user": {
      "displayName": "Axel Sirota",
      "photoUrl": "https://lh3.googleusercontent.com/a-/AOh14GhF_GvpAITBpH5Xc52kHUBvqdiucPdx4L85mdPGFIs=s64",
      "userId": "02089179879199828401"
     },
     "user_tz": 180
    },
    "id": "s-0coky5H4-s",
    "outputId": "e60e5796-fd88-4dde-a919-eb9131d237e8"
   },
   "outputs": [
    {
     "data": {
      "text/plain": [
       "tensor([[0, 0],\n",
       "        [1, 1],\n",
       "        [2, 0],\n",
       "        [2, 1]])"
      ]
     },
     "execution_count": 52,
     "metadata": {},
     "output_type": "execute_result"
    }
   ],
   "source": [
    "# produces two arrays, one with x coords, one with y coords\n",
    "x.nonzero()"
   ]
  },
  {
   "cell_type": "code",
   "execution_count": 53,
   "metadata": {
    "colab": {
     "base_uri": "https://localhost:8080/"
    },
    "executionInfo": {
     "elapsed": 424,
     "status": "ok",
     "timestamp": 1642902289301,
     "user": {
      "displayName": "Axel Sirota",
      "photoUrl": "https://lh3.googleusercontent.com/a-/AOh14GhF_GvpAITBpH5Xc52kHUBvqdiucPdx4L85mdPGFIs=s64",
      "userId": "02089179879199828401"
     },
     "user_tz": 180
    },
    "id": "OBtoNUxC9umD",
    "outputId": "4ddf9036-5b23-4ad2-e244-fc83c168424e"
   },
   "outputs": [
    {
     "data": {
      "text/plain": [
       "(tensor([0, 1, 2, 2]), tensor([0, 1, 0, 1]))"
      ]
     },
     "execution_count": 53,
     "metadata": {},
     "output_type": "execute_result"
    }
   ],
   "source": [
    "x.nonzero(as_tuple = True)"
   ]
  },
  {
   "cell_type": "code",
   "execution_count": 54,
   "metadata": {
    "colab": {
     "base_uri": "https://localhost:8080/"
    },
    "executionInfo": {
     "elapsed": 296,
     "status": "ok",
     "timestamp": 1642902294941,
     "user": {
      "displayName": "Axel Sirota",
      "photoUrl": "https://lh3.googleusercontent.com/a-/AOh14GhF_GvpAITBpH5Xc52kHUBvqdiucPdx4L85mdPGFIs=s64",
      "userId": "02089179879199828401"
     },
     "user_tz": 180
    },
    "id": "4oqoImh69umE",
    "outputId": "97080b8a-8b34-457a-d259-6e971d631dae"
   },
   "outputs": [
    {
     "data": {
      "text/plain": [
       "tensor([1, 5, 7, 8])"
      ]
     },
     "execution_count": 54,
     "metadata": {},
     "output_type": "execute_result"
    }
   ],
   "source": [
    "x[x.nonzero(as_tuple = True)]"
   ]
  },
  {
   "cell_type": "code",
   "execution_count": 55,
   "metadata": {
    "colab": {
     "base_uri": "https://localhost:8080/"
    },
    "executionInfo": {
     "elapsed": 312,
     "status": "ok",
     "timestamp": 1642902299600,
     "user": {
      "displayName": "Axel Sirota",
      "photoUrl": "https://lh3.googleusercontent.com/a-/AOh14GhF_GvpAITBpH5Xc52kHUBvqdiucPdx4L85mdPGFIs=s64",
      "userId": "02089179879199828401"
     },
     "user_tz": 180
    },
    "id": "ILF5uDXn9umI",
    "outputId": "30e93dd4-5033-4251-c219-f8cfc53ae571"
   },
   "outputs": [
    {
     "data": {
      "text/plain": [
       "tensor([[1, 2, 3],\n",
       "        [4, 5, 6],\n",
       "        [7, 8, 9]])"
      ]
     },
     "execution_count": 55,
     "metadata": {},
     "output_type": "execute_result"
    }
   ],
   "source": [
    "y = pt.arange(1, 10).reshape(3, 3)\n",
    "y"
   ]
  },
  {
   "cell_type": "code",
   "execution_count": 56,
   "metadata": {
    "colab": {
     "base_uri": "https://localhost:8080/"
    },
    "executionInfo": {
     "elapsed": 296,
     "status": "ok",
     "timestamp": 1642902305166,
     "user": {
      "displayName": "Axel Sirota",
      "photoUrl": "https://lh3.googleusercontent.com/a-/AOh14GhF_GvpAITBpH5Xc52kHUBvqdiucPdx4L85mdPGFIs=s64",
      "userId": "02089179879199828401"
     },
     "user_tz": 180
    },
    "id": "mMJhqad39umJ",
    "outputId": "54831adb-4868-4b25-ef50-d401a7e9a24f"
   },
   "outputs": [
    {
     "data": {
      "text/plain": [
       "tensor([[1, 2, 3],\n",
       "        [7, 8, 9]])"
      ]
     },
     "execution_count": 56,
     "metadata": {},
     "output_type": "execute_result"
    }
   ],
   "source": [
    "y.index_select(dim = 0, index = pt.tensor([0, 2]))"
   ]
  },
  {
   "cell_type": "code",
   "execution_count": 57,
   "metadata": {
    "colab": {
     "base_uri": "https://localhost:8080/"
    },
    "executionInfo": {
     "elapsed": 274,
     "status": "ok",
     "timestamp": 1642902319754,
     "user": {
      "displayName": "Axel Sirota",
      "photoUrl": "https://lh3.googleusercontent.com/a-/AOh14GhF_GvpAITBpH5Xc52kHUBvqdiucPdx4L85mdPGFIs=s64",
      "userId": "02089179879199828401"
     },
     "user_tz": 180
    },
    "id": "CXue7JnFH4-u",
    "outputId": "2741e4e9-9735-474c-c6fb-b5551f5efe1f"
   },
   "outputs": [
    {
     "data": {
      "text/plain": [
       "tensor([[1, 3],\n",
       "        [4, 6],\n",
       "        [7, 9]])"
      ]
     },
     "execution_count": 57,
     "metadata": {},
     "output_type": "execute_result"
    }
   ],
   "source": [
    "y.index_select(dim = 1, index = pt.tensor([0, 2]))"
   ]
  },
  {
   "cell_type": "code",
   "execution_count": 58,
   "metadata": {
    "colab": {
     "base_uri": "https://localhost:8080/"
    },
    "executionInfo": {
     "elapsed": 365,
     "status": "ok",
     "timestamp": 1642902323612,
     "user": {
      "displayName": "Axel Sirota",
      "photoUrl": "https://lh3.googleusercontent.com/a-/AOh14GhF_GvpAITBpH5Xc52kHUBvqdiucPdx4L85mdPGFIs=s64",
      "userId": "02089179879199828401"
     },
     "user_tz": 180
    },
    "id": "KlNLcrQ7H4-w",
    "outputId": "0dcacabf-28d9-4840-e91d-c52273853ed5"
   },
   "outputs": [
    {
     "data": {
      "text/plain": [
       "tensor([[1, 2, 3],\n",
       "        [0, 5, 6],\n",
       "        [0, 0, 9]])"
      ]
     },
     "execution_count": 58,
     "metadata": {},
     "output_type": "execute_result"
    }
   ],
   "source": [
    "y.triu()"
   ]
  },
  {
   "cell_type": "code",
   "execution_count": 59,
   "metadata": {
    "colab": {
     "base_uri": "https://localhost:8080/"
    },
    "executionInfo": {
     "elapsed": 3,
     "status": "ok",
     "timestamp": 1642902323941,
     "user": {
      "displayName": "Axel Sirota",
      "photoUrl": "https://lh3.googleusercontent.com/a-/AOh14GhF_GvpAITBpH5Xc52kHUBvqdiucPdx4L85mdPGFIs=s64",
      "userId": "02089179879199828401"
     },
     "user_tz": 180
    },
    "id": "TSQt0kmd9umO",
    "outputId": "630a4ad5-d3e5-4e9f-c97f-79fe9dd53f62"
   },
   "outputs": [
    {
     "data": {
      "text/plain": [
       "tensor([[1, 0, 0],\n",
       "        [4, 5, 0],\n",
       "        [7, 8, 9]])"
      ]
     },
     "execution_count": 59,
     "metadata": {},
     "output_type": "execute_result"
    }
   ],
   "source": [
    "y.tril()"
   ]
  },
  {
   "cell_type": "code",
   "execution_count": 60,
   "metadata": {
    "colab": {
     "base_uri": "https://localhost:8080/"
    },
    "executionInfo": {
     "elapsed": 2,
     "status": "ok",
     "timestamp": 1642902324887,
     "user": {
      "displayName": "Axel Sirota",
      "photoUrl": "https://lh3.googleusercontent.com/a-/AOh14GhF_GvpAITBpH5Xc52kHUBvqdiucPdx4L85mdPGFIs=s64",
      "userId": "02089179879199828401"
     },
     "user_tz": 180
    },
    "id": "jVZh015S9umQ",
    "outputId": "1497ead7-f383-46c0-b56a-80df52de6a5b"
   },
   "outputs": [
    {
     "data": {
      "text/plain": [
       "tensor([[1, 4, 7],\n",
       "        [0, 5, 8],\n",
       "        [0, 0, 9]])"
      ]
     },
     "execution_count": 60,
     "metadata": {},
     "output_type": "execute_result"
    }
   ],
   "source": [
    "y.tril().T #transpose"
   ]
  },
  {
   "cell_type": "markdown",
   "metadata": {
    "id": "23ED3b7BH4-y"
   },
   "source": [
    "## Multi-dimensional subarrays"
   ]
  },
  {
   "cell_type": "code",
   "execution_count": 61,
   "metadata": {
    "colab": {
     "base_uri": "https://localhost:8080/",
     "height": 168
    },
    "executionInfo": {
     "elapsed": 302,
     "status": "error",
     "timestamp": 1642902341417,
     "user": {
      "displayName": "Axel Sirota",
      "photoUrl": "https://lh3.googleusercontent.com/a-/AOh14GhF_GvpAITBpH5Xc52kHUBvqdiucPdx4L85mdPGFIs=s64",
      "userId": "02089179879199828401"
     },
     "user_tz": 180
    },
    "id": "X_lAYYQqH4-z",
    "outputId": "50344a7e-9a24-4f63-d5b5-87b910f9f466"
   },
   "outputs": [
    {
     "ename": "NameError",
     "evalue": "ignored",
     "output_type": "error",
     "traceback": [
      "\u001b[0;31m---------------------------------------------------------------------------\u001b[0m",
      "\u001b[0;31mNameError\u001b[0m                                 Traceback (most recent call last)",
      "\u001b[0;32m<ipython-input-61-581de19c31fb>\u001b[0m in \u001b[0;36m<module>\u001b[0;34m()\u001b[0m\n\u001b[0;32m----> 1\u001b[0;31m \u001b[0mx2\u001b[0m\u001b[0;34m\u001b[0m\u001b[0;34m\u001b[0m\u001b[0m\n\u001b[0m",
      "\u001b[0;31mNameError\u001b[0m: name 'x2' is not defined"
     ]
    }
   ],
   "source": [
    "x2"
   ]
  },
  {
   "cell_type": "code",
   "execution_count": null,
   "metadata": {
    "id": "ch7yUUl6H4-1"
   },
   "outputs": [],
   "source": [
    "x2[:2, :3]"
   ]
  },
  {
   "cell_type": "code",
   "execution_count": null,
   "metadata": {
    "id": "Vlfjt5joH4-6"
   },
   "outputs": [],
   "source": [
    "x2[:3, ::2]"
   ]
  },
  {
   "cell_type": "code",
   "execution_count": null,
   "metadata": {
    "id": "rSkSNj_F9umW"
   },
   "outputs": [],
   "source": [
    "x2[::-1, ::-1]"
   ]
  },
  {
   "cell_type": "code",
   "execution_count": null,
   "metadata": {
    "id": "GPZCnkHYH4-8"
   },
   "outputs": [],
   "source": [
    "reversed(x2)"
   ]
  },
  {
   "cell_type": "code",
   "execution_count": null,
   "metadata": {
    "id": "HNjacByr9uma"
   },
   "outputs": [],
   "source": [
    "indices = pt.arange(x2.numel() - 1, -1, -1)\n",
    "indices"
   ]
  },
  {
   "cell_type": "code",
   "execution_count": null,
   "metadata": {
    "id": "y5tdmRlj9umd"
   },
   "outputs": [],
   "source": [
    "pt.take(x2, indices).reshape(x2.shape) #x2[::-1, ::-1]"
   ]
  },
  {
   "cell_type": "markdown",
   "metadata": {
    "id": "9JSa9_ZEH4-_"
   },
   "source": [
    "## Subarray Views"
   ]
  },
  {
   "cell_type": "code",
   "execution_count": null,
   "metadata": {
    "id": "l9yeU_QvH4-_"
   },
   "outputs": [],
   "source": [
    "x2, id(x2)"
   ]
  },
  {
   "cell_type": "code",
   "execution_count": null,
   "metadata": {
    "id": "LCVe4vdPH4_B"
   },
   "outputs": [],
   "source": [
    "x2_sub = x2[:2, :2]\n",
    "x2_sub, id(x2_sub)"
   ]
  },
  {
   "cell_type": "code",
   "execution_count": null,
   "metadata": {
    "id": "caA9uw2mH4_D"
   },
   "outputs": [],
   "source": [
    "x2_sub[0, 0] = 99\n",
    "x2_sub"
   ]
  },
  {
   "cell_type": "code",
   "execution_count": null,
   "metadata": {
    "id": "wvAPuETHH4_F"
   },
   "outputs": [],
   "source": [
    "x2 # changes x2 as well, since the subarray has references to the original"
   ]
  },
  {
   "cell_type": "markdown",
   "metadata": {
    "id": "p1AgH9_7H4_M"
   },
   "source": [
    "## PyTorch ATen Functions\n",
    "* operate on tensors as on contiguous blobs of data in memory\n",
    "* _vectorized_ wrapper for a function that takes a fixed number of specific inputs and produces a fixed number of specific outputs"
   ]
  },
  {
   "cell_type": "markdown",
   "metadata": {
    "id": "xxsA3_L9H4_P"
   },
   "source": [
    "| Operator | ATen            | Description                         |\n",
    "|----------|-----------------|-------------------------------------|\n",
    "|   +      | pt.add          | Addition (e.g., 1 + 1 = 2)          |\n",
    "|   -      | pt.subtract     | Subtraction (e.g., 3 - 2 = 1)       |\n",
    "|   -      | pt.negative     | Unary negation (e.g., -2)           |\n",
    "|   *      | pt.multiply     | Multiplication (e.g., 2 * 3 = 6)    |\n",
    "|   /      | pt.divide       | Division (e.g., 3 / 2 = 1.5)        |\n",
    "|   //     | pt.floor_divide | Floor division (e.g., 3 // 2 = 1)   |\n",
    "|   **     | pt.power        | Exponentiation (e.g., 2 ** 3 = 8)   |\n",
    "|   %      | pt.mod          | Modulus/remainder (e.g., 9 % 4 = 1) |"
   ]
  },
  {
   "cell_type": "markdown",
   "metadata": {
    "id": "K7Hx62-vH4_G"
   },
   "source": [
    "## Vectorized Operations"
   ]
  },
  {
   "cell_type": "code",
   "execution_count": 62,
   "metadata": {
    "colab": {
     "base_uri": "https://localhost:8080/"
    },
    "executionInfo": {
     "elapsed": 1950,
     "status": "ok",
     "timestamp": 1642902373265,
     "user": {
      "displayName": "Axel Sirota",
      "photoUrl": "https://lh3.googleusercontent.com/a-/AOh14GhF_GvpAITBpH5Xc52kHUBvqdiucPdx4L85mdPGFIs=s64",
      "userId": "02089179879199828401"
     },
     "user_tz": 180
    },
    "id": "mirPQHg6c2LX",
    "outputId": "c6c3af40-fb75-4624-ee9a-1009f36cafeb"
   },
   "outputs": [
    {
     "name": "stdout",
     "output_type": "stream",
     "text": [
      "The slowest run took 8.19 times longer than the fastest. This could mean that an intermediate result is being cached.\n",
      "100 loops, best of 5: 2.2 ms per loop\n"
     ]
    }
   ],
   "source": [
    "pytorch = pt.arange(1_000_000)\n",
    "%timeit pytorch + 1"
   ]
  },
  {
   "cell_type": "code",
   "execution_count": null,
   "metadata": {
    "id": "52zp8xGDH4_N"
   },
   "outputs": [],
   "source": [
    "x = pt.arange(9).reshape((3, 3))\n",
    "2 ** x"
   ]
  },
  {
   "cell_type": "code",
   "execution_count": null,
   "metadata": {
    "id": "v6NQyezYH4_O"
   },
   "outputs": [],
   "source": [
    "x = pt.arange(4)\n",
    "-(0.5 * x + 1) ** 2"
   ]
  },
  {
   "cell_type": "markdown",
   "metadata": {
    "id": "FXZVty5hH4_P"
   },
   "source": [
    "## Exponents and Logarithms "
   ]
  },
  {
   "cell_type": "code",
   "execution_count": null,
   "metadata": {
    "id": "PhMyaPSPH4_Q"
   },
   "outputs": [],
   "source": [
    "x = pt.tensor([1., 2., 3.])\n",
    "pt.exp(x)"
   ]
  },
  {
   "cell_type": "code",
   "execution_count": null,
   "metadata": {
    "id": "zNI6HN93H4_U"
   },
   "outputs": [],
   "source": [
    "pt.pow(3, x)"
   ]
  },
  {
   "cell_type": "code",
   "execution_count": null,
   "metadata": {
    "id": "fVrLwkgxH4_W"
   },
   "outputs": [],
   "source": [
    "pt.log(pt.tensor([1., 2., 3.]))"
   ]
  },
  {
   "cell_type": "code",
   "execution_count": null,
   "metadata": {
    "id": "FvNKvOboH4_X"
   },
   "outputs": [],
   "source": [
    "pt.log2(pt.tensor([1., 256., 65536.]))"
   ]
  },
  {
   "cell_type": "code",
   "execution_count": null,
   "metadata": {
    "id": "pzEyhXJCH4_b"
   },
   "outputs": [],
   "source": [
    "pt.log10(pt.tensor([1_000., 1_000_000., 10. ** 10]))"
   ]
  },
  {
   "cell_type": "markdown",
   "metadata": {
    "id": "P1RwrRf0H4_d"
   },
   "source": [
    "## Aggregations"
   ]
  },
  {
   "cell_type": "code",
   "execution_count": null,
   "metadata": {
    "id": "fGPZwXV29um1"
   },
   "outputs": [],
   "source": [
    "x = pt.arange(15).reshape(3, 5)\n",
    "x"
   ]
  },
  {
   "cell_type": "code",
   "execution_count": null,
   "metadata": {
    "id": "-ctBvP8N9um4"
   },
   "outputs": [],
   "source": [
    "x.sum()"
   ]
  },
  {
   "cell_type": "code",
   "execution_count": null,
   "metadata": {
    "id": "mye3s4U19um5"
   },
   "outputs": [],
   "source": [
    "x.sum(dim = 0)"
   ]
  },
  {
   "cell_type": "code",
   "execution_count": null,
   "metadata": {
    "id": "XxzZuj8A9um7"
   },
   "outputs": [],
   "source": [
    "x.sum(dim = 1, keepdims = True)"
   ]
  },
  {
   "cell_type": "code",
   "execution_count": null,
   "metadata": {
    "id": "8F1FQ3mY9um8"
   },
   "outputs": [],
   "source": [
    "x.sum(dim = 1)"
   ]
  },
  {
   "cell_type": "code",
   "execution_count": null,
   "metadata": {
    "id": "RF91QSDL9um-"
   },
   "outputs": [],
   "source": [
    "x.to(float).mean(), x.to(float).std()"
   ]
  },
  {
   "cell_type": "markdown",
   "metadata": {
    "id": "QAcsKw25E0b7"
   },
   "source": [
    "Copyright 2021 CounterFactual.AI LLC. Licensed under the Apache License, Version 2.0 (the \"License\"); you may not use this file except in compliance with the License. You may obtain a copy of the License at http://www.apache.org/licenses/LICENSE-2.0 Unless required by applicable law or agreed to in writing, software distributed under the License is distributed on an \"AS IS\" BASIS, WITHOUT WARRANTIES OR CONDITIONS OF ANY KIND, either express or implied. See the License for the specific language governing permissions and limitations under the License."
   ]
  }
 ],
 "metadata": {
  "colab": {
   "collapsed_sections": [],
   "name": "Demo_PyTorch_Tensors.ipynb",
   "provenance": []
  },
  "kernelspec": {
   "display_name": "Python 3 (ipykernel)",
   "language": "python",
   "name": "python3"
  },
  "language_info": {
   "codemirror_mode": {
    "name": "ipython",
    "version": 3
   },
   "file_extension": ".py",
   "mimetype": "text/x-python",
   "name": "python",
   "nbconvert_exporter": "python",
   "pygments_lexer": "ipython3",
   "version": "3.9.1"
  }
 },
 "nbformat": 4,
 "nbformat_minor": 1
}
