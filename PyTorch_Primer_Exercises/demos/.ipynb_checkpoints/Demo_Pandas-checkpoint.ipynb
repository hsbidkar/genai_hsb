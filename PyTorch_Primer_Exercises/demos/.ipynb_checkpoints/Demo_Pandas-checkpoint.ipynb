{
 "cells": [
  {
   "cell_type": "markdown",
   "metadata": {
    "id": "KWSBFMfzTHE6"
   },
   "source": [
    "## **TODO:** Set the value of `URL` to the URL from your learning materials"
   ]
  },
  {
   "cell_type": "code",
   "execution_count": null,
   "metadata": {
    "id": "hk9SzKCMTJep"
   },
   "outputs": [],
   "source": [
    "URL = None\n",
    "import os\n",
    "assert URL and (type(URL) is str), \"Be sure to initialize URL using the value from your learning materials\"\n",
    "os.environ['URL'] = URL"
   ]
  },
  {
   "cell_type": "code",
   "execution_count": null,
   "metadata": {
    "id": "nEy22YInTK0G"
   },
   "outputs": [],
   "source": [
    "%%bash\n",
    "wget -q $URL -O ./data.zip\n",
    "mkdir -p data\n",
    "find *.zip | xargs unzip -o -d data/"
   ]
  },
  {
   "cell_type": "markdown",
   "metadata": {
    "id": "pHP_O-SZTGF0"
   },
   "source": [
    "# Demo - Pandas"
   ]
  },
  {
   "cell_type": "code",
   "execution_count": null,
   "metadata": {
    "id": "I_Qs4276TGF1"
   },
   "outputs": [],
   "source": [
    "import pandas as pd\n",
    "data = pd.Series([0.25, 0.5, 0.75, 1.0])\n",
    "data"
   ]
  },
  {
   "cell_type": "code",
   "execution_count": null,
   "metadata": {
    "id": "DrOfJgPhTGF6"
   },
   "outputs": [],
   "source": [
    "# view raw values\n",
    "data.values"
   ]
  },
  {
   "cell_type": "code",
   "execution_count": null,
   "metadata": {
    "id": "Z6K2qQjNTGF9"
   },
   "outputs": [],
   "source": [
    "# view index\n",
    "data.index"
   ]
  },
  {
   "cell_type": "code",
   "execution_count": null,
   "metadata": {
    "id": "-_MBe1bhTGGB"
   },
   "outputs": [],
   "source": [
    "# we can index, just like a standard Python list\n",
    "data[1]"
   ]
  },
  {
   "cell_type": "code",
   "execution_count": null,
   "metadata": {
    "id": "4lb2JuUlTGGF"
   },
   "outputs": [],
   "source": [
    "# Because index is a RangeIndex, we can do\n",
    "# normal slicing from offset 1 to offset 2\n",
    "# \n",
    "data[::-1]"
   ]
  },
  {
   "cell_type": "code",
   "execution_count": null,
   "metadata": {
    "id": "Hk9_k30fTGGI"
   },
   "outputs": [],
   "source": [
    "# create a series with non-integer indices\n",
    "data = pd.Series([0.25, 0.5, 0.75, 1.0], index=['a', 'b', 'c', 'd'])"
   ]
  },
  {
   "cell_type": "code",
   "execution_count": null,
   "metadata": {
    "id": "w49eo5dsTGGL"
   },
   "outputs": [],
   "source": [
    "data"
   ]
  },
  {
   "cell_type": "code",
   "execution_count": null,
   "metadata": {
    "id": "jUQ3RNL7TGGO"
   },
   "outputs": [],
   "source": [
    "# similar to dict indexing\n",
    "data['c']"
   ]
  },
  {
   "cell_type": "code",
   "execution_count": null,
   "metadata": {
    "id": "8M6YoM2mTGGQ"
   },
   "outputs": [],
   "source": [
    "# if you are particularly perverse...\n",
    "data = pd.Series([0.25, 0.5, 0.75, 1.0], index=[2, 5, 3, 7])\n",
    "data"
   ]
  },
  {
   "cell_type": "code",
   "execution_count": null,
   "metadata": {
    "id": "vNh2anKpTGGT"
   },
   "outputs": [],
   "source": [
    "data.loc[3]"
   ]
  },
  {
   "cell_type": "markdown",
   "metadata": {
    "id": "D7ZxFnRdTGGW"
   },
   "source": [
    "# Implicit and Explicit Indexing"
   ]
  },
  {
   "cell_type": "code",
   "execution_count": null,
   "metadata": {
    "id": "_92izGlfTGGX"
   },
   "outputs": [],
   "source": [
    "data = pd.Series(['a', 'b', 'c'], index=[1, 3, 5])\n",
    "data"
   ]
  },
  {
   "cell_type": "code",
   "execution_count": null,
   "metadata": {
    "id": "M12modLNTGGa"
   },
   "outputs": [],
   "source": [
    "# index is no longer a range\n",
    "# indices are like keys in a dictionary\n",
    "data.index"
   ]
  },
  {
   "cell_type": "code",
   "execution_count": null,
   "metadata": {
    "id": "nwjTFchHTGGc"
   },
   "outputs": [],
   "source": [
    "data[1] # index by numeric index, not offset!"
   ]
  },
  {
   "cell_type": "code",
   "execution_count": null,
   "metadata": {
    "id": "aMUzyCRlTGGe"
   },
   "outputs": [],
   "source": [
    "# but slicing still works as before\n",
    "data.loc[1:3] # offset 1...offset 2"
   ]
  },
  {
   "cell_type": "markdown",
   "metadata": {
    "id": "OS1HIWvcTGGh"
   },
   "source": [
    "# __`loc`__ and __`iloc`__\n",
    "* .loc is a __*label*__-based indexing method\n",
    "* .iloc is an __*position*__-based indexing method"
   ]
  },
  {
   "cell_type": "code",
   "execution_count": null,
   "metadata": {
    "id": "BIHRXj4ZTGGh"
   },
   "outputs": [],
   "source": [
    "data"
   ]
  },
  {
   "cell_type": "code",
   "execution_count": null,
   "metadata": {
    "id": "bn79Jv2wTGGk"
   },
   "outputs": [],
   "source": [
    "data.loc[1] # 1 here is a label, not an offset"
   ]
  },
  {
   "cell_type": "code",
   "execution_count": null,
   "metadata": {
    "id": "OJ6KW6wGTGGn"
   },
   "outputs": [],
   "source": [
    "data.loc[1:2] # 1 and 3 are labels, not integer offsets"
   ]
  },
  {
   "cell_type": "code",
   "execution_count": null,
   "metadata": {
    "id": "gnfR1AVQTGGq"
   },
   "outputs": [],
   "source": [
    "data.iloc[1] # 1 is an offset, not a label"
   ]
  },
  {
   "cell_type": "code",
   "execution_count": null,
   "metadata": {
    "id": "FhuPnrF7TGGs"
   },
   "outputs": [],
   "source": [
    "data.iloc[1:3] # 1..3 is a Python slice based on offsets"
   ]
  },
  {
   "cell_type": "markdown",
   "metadata": {
    "id": "raVweDLMTGGu"
   },
   "source": [
    "# Python Dicts as Series"
   ]
  },
  {
   "cell_type": "code",
   "execution_count": null,
   "metadata": {
    "id": "HMR-aX3FTGGv"
   },
   "outputs": [],
   "source": [
    "population_dict = {'California': 38332521,\n",
    "                       'Texas': 26448193,\n",
    "                       'New York': 19651127,\n",
    "                       'Florida': 19552860,\n",
    "                       'Illinois': 12882135,\n",
    "                        'North Dakota': 10000000}\n",
    "population = pd.Series(population_dict)\n",
    "population"
   ]
  },
  {
   "cell_type": "code",
   "execution_count": null,
   "metadata": {
    "id": "ET4jrXAiTGGx"
   },
   "outputs": [],
   "source": [
    "population[::-1]['New York':'California']"
   ]
  },
  {
   "cell_type": "code",
   "execution_count": null,
   "metadata": {
    "id": "sU5LCTMzTGGz"
   },
   "outputs": [],
   "source": [
    "population['California':'New York']"
   ]
  },
  {
   "cell_type": "markdown",
   "metadata": {
    "id": "ysr0nU6YTGG2"
   },
   "source": [
    "# Pandas DataFrame"
   ]
  },
  {
   "cell_type": "code",
   "execution_count": null,
   "metadata": {
    "id": "8Anoe-ZmTGG2"
   },
   "outputs": [],
   "source": [
    "area_dict = {'California': 423967, 'Texas': 695662, 'New York': 141297,\n",
    "                 'Florida': 170312, 'Illinois': 149995, 'Rhode Island': 1000}\n",
    "area = pd.Series(area_dict)\n",
    "area"
   ]
  },
  {
   "cell_type": "code",
   "execution_count": null,
   "metadata": {
    "id": "HoSwURBbTGG4"
   },
   "outputs": [],
   "source": [
    "states = pd.DataFrame(data=[population.values, area.values]).transpose()"
   ]
  },
  {
   "cell_type": "code",
   "execution_count": null,
   "metadata": {
    "id": "NmdEcgpeTGG7"
   },
   "outputs": [],
   "source": [
    "states.index"
   ]
  },
  {
   "cell_type": "code",
   "execution_count": null,
   "metadata": {
    "id": "pjr4fv3-TGG9"
   },
   "outputs": [],
   "source": [
    "states.columns = ['pop', 'area']\n",
    "states"
   ]
  },
  {
   "cell_type": "code",
   "execution_count": null,
   "metadata": {
    "id": "XQJ9AdZlTGHA"
   },
   "outputs": [],
   "source": [
    "states['area']"
   ]
  },
  {
   "cell_type": "code",
   "execution_count": null,
   "metadata": {
    "id": "ybCCxkl4TGHC"
   },
   "outputs": [],
   "source": [
    "states.values"
   ]
  },
  {
   "cell_type": "code",
   "execution_count": null,
   "metadata": {
    "id": "MWfbTPAeTGHE"
   },
   "outputs": [],
   "source": [
    "# get descriptive statistics\n",
    "states.describe()"
   ]
  },
  {
   "cell_type": "markdown",
   "metadata": {
    "id": "EIgkwTG4TGHL"
   },
   "source": [
    "# Sales Data"
   ]
  },
  {
   "cell_type": "code",
   "execution_count": null,
   "metadata": {
    "id": "ie7MgG0dTGHL"
   },
   "outputs": [],
   "source": [
    "dat = pd.read_csv(\"data/WA_Fn-UseC_-Sales-Win-Loss.csv\")"
   ]
  },
  {
   "cell_type": "code",
   "execution_count": null,
   "metadata": {
    "id": "uY6RN05tTGHN"
   },
   "outputs": [],
   "source": [
    "dat.columns"
   ]
  },
  {
   "cell_type": "code",
   "execution_count": null,
   "metadata": {
    "id": "0BGNLDooTGHP"
   },
   "outputs": [],
   "source": [
    "dat['Opportunity Result']"
   ]
  },
  {
   "cell_type": "markdown",
   "metadata": {
    "id": "4TJL1jKmTGHR"
   },
   "source": [
    "# Counting Values"
   ]
  },
  {
   "cell_type": "code",
   "execution_count": null,
   "metadata": {
    "id": "1tUlhxtgTGHS"
   },
   "outputs": [],
   "source": [
    "dat['Opportunity Result'].value_counts()"
   ]
  },
  {
   "cell_type": "code",
   "execution_count": null,
   "metadata": {
    "id": "R3FO8hesTGHU"
   },
   "outputs": [],
   "source": [
    "dat['Supplies Group'].value_counts()"
   ]
  },
  {
   "cell_type": "code",
   "execution_count": null,
   "metadata": {
    "id": "FqZc98_ATGHW"
   },
   "outputs": [],
   "source": [
    "dat['Elapsed Days In Sales Stage'].value_counts().sort_values(ascending = True)"
   ]
  },
  {
   "cell_type": "markdown",
   "metadata": {
    "id": "TwFSyLaKTGHY"
   },
   "source": [
    "# Top Five Values"
   ]
  },
  {
   "cell_type": "code",
   "execution_count": null,
   "metadata": {
    "id": "46m2Y_CiTGHZ"
   },
   "outputs": [],
   "source": [
    "dat['Supplies Subgroup'].value_counts()"
   ]
  },
  {
   "cell_type": "markdown",
   "metadata": {
    "id": "YSi65dCjTGHb"
   },
   "source": [
    "# Extracting Columns"
   ]
  },
  {
   "cell_type": "code",
   "execution_count": null,
   "metadata": {
    "id": "KN5RD_n5TGHb"
   },
   "outputs": [],
   "source": [
    "dat[:5].T"
   ]
  },
  {
   "cell_type": "code",
   "execution_count": null,
   "metadata": {
    "id": "iJ2mxpJmTGHe"
   },
   "outputs": [],
   "source": [
    "region_results = dat[[\"Region\", \"Opportunity Result\", \"Sales Stage Change Count\"]]\n",
    "dat.describe()"
   ]
  },
  {
   "cell_type": "code",
   "execution_count": null,
   "metadata": {
    "id": "nmi_ko0cTGHh"
   },
   "outputs": [],
   "source": [
    "region_results.shape"
   ]
  },
  {
   "cell_type": "code",
   "execution_count": null,
   "metadata": {
    "id": "JyfaaHL1TGHk"
   },
   "outputs": [],
   "source": [
    "region_results.head()"
   ]
  },
  {
   "cell_type": "markdown",
   "metadata": {
    "id": "xCSTYw29TGHn"
   },
   "source": [
    "# Setting the Index\n",
    "* oftentimes the index of the DataFrame is something we don't care about, e.g., a default numeric index or sequence number"
   ]
  },
  {
   "cell_type": "code",
   "execution_count": null,
   "metadata": {
    "id": "wrqKszuDTGHo"
   },
   "outputs": [],
   "source": [
    "presidents = pd.DataFrame([\n",
    "    { 'name': 'James Madison', 'elect': 1808, 'born': 1751 },\n",
    "    { 'name': 'Thomas Jefferson', 'elect': 1800, 'born': 1743 },\n",
    "    { 'name': 'John Adams', 'elect': 1796, 'born': 1735 },\n",
    "    { 'name': 'George Washington', 'elect': 1788, 'born': 1724 },\n",
    "])\n",
    "presidents"
   ]
  },
  {
   "cell_type": "code",
   "execution_count": null,
   "metadata": {
    "id": "lRxNxm8MTGHr"
   },
   "outputs": [],
   "source": [
    "# the default numeric isn't interesting\n",
    "# let's use name as the index\n",
    "presidents.set_index('name', inplace=True)"
   ]
  },
  {
   "cell_type": "code",
   "execution_count": null,
   "metadata": {
    "id": "8dWwG0nPTGHt"
   },
   "outputs": [],
   "source": [
    "presidents.index"
   ]
  },
  {
   "cell_type": "markdown",
   "metadata": {
    "id": "5TsaDODGgkzn"
   },
   "source": [
    "Copyright 2021 CounterFactual.AI LLC. Licensed under the Apache License, Version 2.0 (the \"License\"); you may not use this file except in compliance with the License. You may obtain a copy of the License at http://www.apache.org/licenses/LICENSE-2.0 Unless required by applicable law or agreed to in writing, software distributed under the License is distributed on an \"AS IS\" BASIS, WITHOUT WARRANTIES OR CONDITIONS OF ANY KIND, either express or implied. See the License for the specific language governing permissions and limitations under the License."
   ]
  }
 ],
 "metadata": {
  "colab": {
   "collapsed_sections": [],
   "name": "Demo_Pandas.ipynb",
   "provenance": []
  },
  "kernelspec": {
   "display_name": "Python 3 (ipykernel)",
   "language": "python",
   "name": "python3"
  },
  "language_info": {
   "codemirror_mode": {
    "name": "ipython",
    "version": 3
   },
   "file_extension": ".py",
   "mimetype": "text/x-python",
   "name": "python",
   "nbconvert_exporter": "python",
   "pygments_lexer": "ipython3",
   "version": "3.9.1"
  }
 },
 "nbformat": 4,
 "nbformat_minor": 1
}
